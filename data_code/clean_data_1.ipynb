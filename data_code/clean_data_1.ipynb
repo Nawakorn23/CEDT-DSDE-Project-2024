{
  "nbformat": 4,
  "nbformat_minor": 0,
  "metadata": {
    "colab": {
      "provenance": []
    },
    "kernelspec": {
      "name": "python3",
      "display_name": "Python 3"
    },
    "language_info": {
      "name": "python"
    }
  },
  "cells": [
    {
      "cell_type": "code",
      "source": [
        "!rm -rf /content/te_sql_summary_2018/"
      ],
      "metadata": {
        "id": "wcjtJvN5-MDf"
      },
      "execution_count": null,
      "outputs": []
    },
    {
      "cell_type": "code",
      "source": [
        "try:\n",
        "  import google.colab\n",
        "  IN_COLAB = True\n",
        "except:\n",
        "  IN_COLAB = False"
      ],
      "metadata": {
        "id": "zFcFjjqo-N_f"
      },
      "execution_count": null,
      "outputs": []
    },
    {
      "cell_type": "code",
      "source": [
        "if IN_COLAB:\n",
        "    !apt-get install openjdk-8-jdk-headless -qq > /dev/null\n",
        "    !wget -q https://archive.apache.org/dist/spark/spark-3.3.2/spark-3.3.2-bin-hadoop3.tgz\n",
        "    !tar xf spark-3.3.2-bin-hadoop3.tgz\n",
        "    !mv spark-3.3.2-bin-hadoop3 spark\n",
        "    !pip install -q findspark\n",
        "    import os\n",
        "    os.environ[\"JAVA_HOME\"] = \"/usr/lib/jvm/java-8-openjdk-amd64\"\n",
        "    os.environ[\"SPARK_HOME\"] = \"/content/spark\""
      ],
      "metadata": {
        "id": "faCEidnS-OHU"
      },
      "execution_count": null,
      "outputs": []
    },
    {
      "cell_type": "code",
      "source": [
        "import findspark\n",
        "findspark.init()\n",
        "spark_url = 'local'\n",
        "\n",
        "import os\n",
        "import json\n",
        "from pyspark.sql import SparkSession\n",
        "from pyspark.sql import Row\n",
        "\n",
        "\n",
        "spark = SparkSession.builder\\\n",
        "        .master(spark_url)\\\n",
        "        .appName('Spark SQL')\\\n",
        "        .getOrCreate()"
      ],
      "metadata": {
        "id": "g8kRtnw8-OLt"
      },
      "execution_count": null,
      "outputs": []
    },
    {
      "cell_type": "code",
      "source": [
        "import zipfile\n",
        "import os\n",
        "\n",
        "input_path = \"/content/2023.zip\"\n",
        "output_folder = \"/content/2023_extracted\"\n",
        "\n",
        "os.makedirs(output_folder, exist_ok=True)\n",
        "\n",
        "with zipfile.ZipFile(input_path, 'r') as zip_ref:\n",
        "    zip_ref.extractall(output_folder)\n",
        "\n",
        "print(f\"Files extracted to: {output_folder}\")"
      ],
      "metadata": {
        "colab": {
          "base_uri": "https://localhost:8080/"
        },
        "id": "utibP7Pz-hdP",
        "outputId": "288fc5fa-f86f-44a9-bb8f-81c3995f7c03"
      },
      "execution_count": null,
      "outputs": [
        {
          "output_type": "stream",
          "name": "stdout",
          "text": [
            "Files extracted to: /content/2023_extracted\n"
          ]
        }
      ]
    },
    {
      "cell_type": "code",
      "source": [
        "from pyspark.sql import SparkSession\n",
        "from pyspark.sql.functions import lit\n",
        "\n",
        "file_path = \"/content/2023_data_final.csv\"\n",
        "output_path = \"/content/te_sql_2023\"\n",
        "\n",
        "df = spark.read.csv(file_path, header=True, inferSchema=True)\n",
        "\n",
        "columns_to_drop = [\"filename\", \"srctype\", \"prism_aggregationType\", \"subtypeDescription\", \"subject_area_name\", \"subject_area_code\", \"source_id\", \"subtype\", \"dc_publisher\"]\n",
        "df_dropped = df.drop(*columns_to_drop)\n",
        "\n",
        "df_renamed = (df_dropped\n",
        "              .withColumnRenamed(\"subject_area_abbrev\", \"Subject\")\n",
        "              .withColumnRenamed(\"dc_identifier\", \"Identifier\")\n",
        "              .withColumnRenamed(\"eid\", \"EID\")\n",
        "              .withColumnRenamed(\"dc_title\", \"Title\")\n",
        "              .withColumnRenamed(\"publicationName\", \"Publication Name\")\n",
        "              .withColumnRenamed(\"prism_coverDate\", \"Publication Date\")\n",
        "              .withColumnRenamed(\"prism_doi\", \"DOI\")\n",
        "              .withColumnRenamed(\"citedby_count\", \"Cited By Count\")\n",
        "              .withColumnRenamed(\"affiliation_country\", \"Affiliation Country\"))\n",
        "\n",
        "\n",
        "columns_order = [\"Subject\",\"Identifier\",\"EID\",\"Title\",\"Publication Name\",\"Publication Date\",\"DOI\",\"Cited By Count\",\"Affiliation Country\"]\n",
        "df_reordered = df_renamed.select(columns_order)\n",
        "\n",
        "df_with_year = df_reordered.withColumn(\"Year\", lit(2023))\n",
        "\n",
        "df_sorted = df_with_year.orderBy(\"Subject\", \"Identifier\")\n",
        "\n",
        "\n",
        "\n",
        "df_sorted.write.mode(\"overwrite\").csv(output_path, header=True)\n",
        "print(\"Data has been saved to:\", output_path)\n"
      ],
      "metadata": {
        "colab": {
          "base_uri": "https://localhost:8080/"
        },
        "id": "AMw89fkX-kfF",
        "outputId": "4207e349-0f36-4f93-c64c-f098c8a2d89d"
      },
      "execution_count": null,
      "outputs": [
        {
          "output_type": "stream",
          "name": "stdout",
          "text": [
            "Data has been saved to: /content/te_sql_2023\n"
          ]
        }
      ]
    },
    {
      "cell_type": "code",
      "source": [
        "from pyspark.sql import SparkSession\n",
        "\n",
        "spark = SparkSession.builder.appName(\"Remove Header Completely\").getOrCreate()\n",
        "\n",
        "file_path = \"/content/te_sql_2023/te_sql_2023.csv\"\n",
        "output_path = \"/content/te_sql_2023_no_header\"\n",
        "\n",
        "\n",
        "df = spark.read.csv(file_path, header=False, inferSchema=True)\n",
        "\n",
        "df_with_index = df.rdd.zipWithIndex().filter(lambda row: row[1] > 0).map(lambda row: row[0])\n",
        "\n",
        "df_new = spark.createDataFrame(df_with_index)\n",
        "\n",
        "df_new.show()\n",
        "\n",
        "df_new.write.mode(\"overwrite\").csv(output_path, header=False)\n",
        "print(\"Data with the header completely removed has been saved to:\", output_path)\n"
      ],
      "metadata": {
        "colab": {
          "base_uri": "https://localhost:8080/"
        },
        "id": "Wdu77OO0EJf5",
        "outputId": "a34464a1-9a1b-4ba3-da9e-d3914232ccc2"
      },
      "execution_count": null,
      "outputs": [
        {
          "output_type": "stream",
          "name": "stdout",
          "text": [
            "+----+--------------------+------------------+--------------------+--------------------+--------------------+--------------------+---+-----------------+----+\n",
            "| _c0|                 _c1|               _c2|                 _c3|                 _c4|                 _c5|                 _c6|_c7|              _c8| _c9|\n",
            "+----+--------------------+------------------+--------------------+--------------------+--------------------+--------------------+---+-----------------+----+\n",
            "|AGRI|SCOPUS_ID:8512347...|2-s2.0-85123470593|Factors affecting...|Food Science and ...|2023-04-01T00:00:...|10.1177/108201322...|  1|         Thailand|2023|\n",
            "|AGRI|SCOPUS_ID:8513549...|2-s2.0-85135493764|Non-antibiotic ap...|Reviews in Aquacu...|2023-01-01T00:00:...|   10.1111/raq.12721| 11|         Malaysia|2023|\n",
            "|AGRI|SCOPUS_ID:8513549...|2-s2.0-85135493764|Non-antibiotic ap...|Reviews in Aquacu...|2023-01-01T00:00:...|   10.1111/raq.12721| 11|         Thailand|2023|\n",
            "|AGRI|SCOPUS_ID:8513549...|2-s2.0-85135493764|Non-antibiotic ap...|Reviews in Aquacu...|2023-01-01T00:00:...|   10.1111/raq.12721| 11|         Viet Nam|2023|\n",
            "|AGRI|SCOPUS_ID:8513615...|2-s2.0-85136156121|A decade overview...|  Food Hydrocolloids|2023-01-01T00:00:...|10.1016/j.foodhyd...| 11|            China|2023|\n",
            "|AGRI|SCOPUS_ID:8513615...|2-s2.0-85136156121|A decade overview...|  Food Hydrocolloids|2023-01-01T00:00:...|10.1016/j.foodhyd...| 11|             Iran|2023|\n",
            "|AGRI|SCOPUS_ID:8513615...|2-s2.0-85136156121|A decade overview...|  Food Hydrocolloids|2023-01-01T00:00:...|10.1016/j.foodhyd...| 11|         Malaysia|2023|\n",
            "|AGRI|SCOPUS_ID:8513615...|2-s2.0-85136156121|A decade overview...|  Food Hydrocolloids|2023-01-01T00:00:...|10.1016/j.foodhyd...| 11|            Spain|2023|\n",
            "|AGRI|SCOPUS_ID:8513615...|2-s2.0-85136156121|A decade overview...|  Food Hydrocolloids|2023-01-01T00:00:...|10.1016/j.foodhyd...| 11|         Thailand|2023|\n",
            "|AGRI|SCOPUS_ID:8513818...|2-s2.0-85138187650|The thermal resis...|Journal of Food S...|2023-01-01T00:00:...|10.1007/s13197-02...|  3|            China|2023|\n",
            "|AGRI|SCOPUS_ID:8513818...|2-s2.0-85138187650|The thermal resis...|Journal of Food S...|2023-01-01T00:00:...|10.1007/s13197-02...|  3|            India|2023|\n",
            "|AGRI|SCOPUS_ID:8513818...|2-s2.0-85138187650|The thermal resis...|Journal of Food S...|2023-01-01T00:00:...|10.1007/s13197-02...|  3|         Thailand|2023|\n",
            "|AGRI|SCOPUS_ID:8513902...|2-s2.0-85139025208|Phylogeny, charac...|Molecular Phyloge...|2023-01-01T00:00:...|10.1016/j.ympev.2...|  2|Brunei Darussalam|2023|\n",
            "|AGRI|SCOPUS_ID:8513902...|2-s2.0-85139025208|Phylogeny, charac...|Molecular Phyloge...|2023-01-01T00:00:...|10.1016/j.ympev.2...|  2|            China|2023|\n",
            "|AGRI|SCOPUS_ID:8513902...|2-s2.0-85139025208|Phylogeny, charac...|Molecular Phyloge...|2023-01-01T00:00:...|10.1016/j.ympev.2...|  2|          Germany|2023|\n",
            "|AGRI|SCOPUS_ID:8513902...|2-s2.0-85139025208|Phylogeny, charac...|Molecular Phyloge...|2023-01-01T00:00:...|10.1016/j.ympev.2...|  2|         Thailand|2023|\n",
            "|AGRI|SCOPUS_ID:8513902...|2-s2.0-85139025208|Phylogeny, charac...|Molecular Phyloge...|2023-01-01T00:00:...|10.1016/j.ympev.2...|  2|    United States|2023|\n",
            "|AGRI|SCOPUS_ID:8513902...|2-s2.0-85139025208|Phylogeny, charac...|Molecular Phyloge...|2023-01-01T00:00:...|10.1016/j.ympev.2...|  2|         Viet Nam|2023|\n",
            "|AGRI|SCOPUS_ID:8513943...|2-s2.0-85139433370|Microanatomy of t...|      Acta Zoologica|2023-10-01T00:00:...|   10.1111/azo.12441|  0|         Thailand|2023|\n",
            "|AGRI|SCOPUS_ID:8514048...|2-s2.0-85140489961|Temporal dynamics...|      Fungal Ecology|2023-02-01T00:00:...|10.1016/j.funeco....|  2|         Thailand|2023|\n",
            "+----+--------------------+------------------+--------------------+--------------------+--------------------+--------------------+---+-----------------+----+\n",
            "only showing top 20 rows\n",
            "\n",
            "Data with the header completely removed has been saved to: /content/te_sql_2023_no_header\n"
          ]
        }
      ]
    },
    {
      "cell_type": "code",
      "source": [
        "from pyspark.sql import SparkSession\n",
        "from pyspark.sql.functions import col, countDistinct\n",
        "\n",
        "spark = SparkSession.builder.appName(\"Count Unique Titles\").getOrCreate()\n",
        "\n",
        "file_path = \"/content/te_sql_2023/te_sql_2023.csv\"\n",
        "output_path = \"/content/te_sql_summary_2023\"\n",
        "\n",
        "df = spark.read.csv(file_path, header=True, inferSchema=True)\n",
        "\n",
        "df_counted = (df.groupBy(\"Year\", \"Affiliation Country\", \"Subject\")\n",
        "                .agg(countDistinct(\"Title\").alias(\"Number of Documents\"))\n",
        "                .withColumnRenamed(\"Affiliation Country\", \"Country\")\n",
        "                .withColumnRenamed(\"Subject\", \"Subject Area\"))\n",
        "\n",
        "df_result = df_counted.select(\"Country\", \"Year\", \"Subject Area\", \"Number of Documents\").orderBy(\"Country\", \"Year\", \"Subject Area\")\n",
        "\n",
        "df_result.show()\n",
        "\n",
        "df_result.write.mode(\"overwrite\").csv(output_path, header=True)\n",
        "print(\"Summary data has been saved to:\", output_path)\n",
        "row_count = df_result.count()\n",
        "print(f\"Number of rows: {row_count}\")\n"
      ],
      "metadata": {
        "colab": {
          "base_uri": "https://localhost:8080/"
        },
        "id": "s2NERhxjMc3p",
        "outputId": "67047f8f-9828-4c3e-ed47-7758686132dc"
      },
      "execution_count": null,
      "outputs": [
        {
          "output_type": "stream",
          "name": "stdout",
          "text": [
            "+-----------+----+------------+-------------------+\n",
            "|    Country|Year|Subject Area|Number of Documents|\n",
            "+-----------+----+------------+-------------------+\n",
            "|Afghanistan|2023|        MEDI|                  1|\n",
            "|    Albania|2023|        MEDI|                  3|\n",
            "|    Algeria|2023|        MEDI|                  1|\n",
            "|    Algeria|2023|        PSYC|                  1|\n",
            "|  Argentina|2023|        AGRI|                  1|\n",
            "|  Argentina|2023|        MEDI|                 16|\n",
            "|  Argentina|2023|        MULT|                  1|\n",
            "|  Argentina|2023|        NEUR|                  1|\n",
            "|  Argentina|2023|        PSYC|                  2|\n",
            "|  Argentina|2023|        SOCI|                  1|\n",
            "|    Armenia|2023|        ENGI|                  5|\n",
            "|    Armenia|2023|        MEDI|                  4|\n",
            "|    Armenia|2023|        PHYS|                 25|\n",
            "|  Australia|2023|        AGRI|                  6|\n",
            "|  Australia|2023|        BIOC|                 10|\n",
            "|  Australia|2023|        BUSI|                  6|\n",
            "|  Australia|2023|        CENG|                  2|\n",
            "|  Australia|2023|        CHEM|                  5|\n",
            "|  Australia|2023|        COMP|                  1|\n",
            "|  Australia|2023|        DENT|                  2|\n",
            "+-----------+----+------------+-------------------+\n",
            "only showing top 20 rows\n",
            "\n",
            "Summary data has been saved to: /content/te_sql_summary_2023\n",
            "Number of rows: 1021\n"
          ]
        }
      ]
    }
  ]
}