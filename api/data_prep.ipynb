{
 "cells": [
  {
   "cell_type": "code",
   "execution_count": 83,
   "metadata": {},
   "outputs": [],
   "source": [
    "from pyspark.sql.functions import lit, col, isnan, when, expr, year, count\n",
    "from pyspark.sql import SparkSession"
   ]
  },
  {
   "cell_type": "code",
   "execution_count": 85,
   "metadata": {},
   "outputs": [
    {
     "ename": "ConnectionRefusedError",
     "evalue": "[WinError 10061] No connection could be made because the target machine actively refused it",
     "output_type": "error",
     "traceback": [
      "\u001b[1;31m---------------------------------------------------------------------------\u001b[0m",
      "\u001b[1;31mConnectionRefusedError\u001b[0m                    Traceback (most recent call last)",
      "Cell \u001b[1;32mIn[85], line 6\u001b[0m\n\u001b[0;32m      1\u001b[0m \u001b[38;5;28;01mfrom\u001b[39;00m \u001b[38;5;21;01mpyspark\u001b[39;00m\u001b[38;5;21;01m.\u001b[39;00m\u001b[38;5;21;01msql\u001b[39;00m \u001b[38;5;28;01mimport\u001b[39;00m SparkSession\n\u001b[0;32m      3\u001b[0m spark \u001b[38;5;241m=\u001b[39m \u001b[43mSparkSession\u001b[49m\u001b[38;5;241;43m.\u001b[39;49m\u001b[43mbuilder\u001b[49m\u001b[43m \u001b[49m\u001b[43m\\\u001b[49m\n\u001b[0;32m      4\u001b[0m \u001b[43m    \u001b[49m\u001b[38;5;241;43m.\u001b[39;49m\u001b[43mappName\u001b[49m\u001b[43m(\u001b[49m\u001b[38;5;124;43m\"\u001b[39;49m\u001b[38;5;124;43mData Cleansing\u001b[39;49m\u001b[38;5;124;43m\"\u001b[39;49m\u001b[43m)\u001b[49m\u001b[43m \u001b[49m\u001b[43m\\\u001b[49m\n\u001b[0;32m      5\u001b[0m \u001b[43m    \u001b[49m\u001b[38;5;241;43m.\u001b[39;49m\u001b[43mmaster\u001b[49m\u001b[43m(\u001b[49m\u001b[38;5;124;43m\"\u001b[39;49m\u001b[38;5;124;43mlocal[*]\u001b[39;49m\u001b[38;5;124;43m\"\u001b[39;49m\u001b[43m)\u001b[49m\u001b[43m \u001b[49m\u001b[43m\\\u001b[49m\n\u001b[1;32m----> 6\u001b[0m \u001b[43m    \u001b[49m\u001b[38;5;241;43m.\u001b[39;49m\u001b[43mgetOrCreate\u001b[49m\u001b[43m(\u001b[49m\u001b[43m)\u001b[49m\n",
      "File \u001b[1;32mc:\\Users\\HP\\AppData\\Local\\Programs\\Python\\Python312\\Lib\\site-packages\\pyspark\\sql\\session.py:503\u001b[0m, in \u001b[0;36mSparkSession.Builder.getOrCreate\u001b[1;34m(self)\u001b[0m\n\u001b[0;32m    500\u001b[0m     session \u001b[38;5;241m=\u001b[39m SparkSession(sc, options\u001b[38;5;241m=\u001b[39m\u001b[38;5;28mself\u001b[39m\u001b[38;5;241m.\u001b[39m_options)\n\u001b[0;32m    501\u001b[0m \u001b[38;5;28;01melse\u001b[39;00m:\n\u001b[0;32m    502\u001b[0m     \u001b[38;5;28mgetattr\u001b[39m(\n\u001b[1;32m--> 503\u001b[0m         \u001b[38;5;28;43mgetattr\u001b[39;49m\u001b[43m(\u001b[49m\u001b[43msession\u001b[49m\u001b[38;5;241;43m.\u001b[39;49m\u001b[43m_jvm\u001b[49m\u001b[43m,\u001b[49m\u001b[43m \u001b[49m\u001b[38;5;124;43m\"\u001b[39;49m\u001b[38;5;124;43mSparkSession$\u001b[39;49m\u001b[38;5;124;43m\"\u001b[39;49m\u001b[43m)\u001b[49m, \u001b[38;5;124m\"\u001b[39m\u001b[38;5;124mMODULE$\u001b[39m\u001b[38;5;124m\"\u001b[39m\n\u001b[0;32m    504\u001b[0m     )\u001b[38;5;241m.\u001b[39mapplyModifiableSettings(session\u001b[38;5;241m.\u001b[39m_jsparkSession, \u001b[38;5;28mself\u001b[39m\u001b[38;5;241m.\u001b[39m_options)\n\u001b[0;32m    505\u001b[0m \u001b[38;5;28;01mreturn\u001b[39;00m session\n",
      "File \u001b[1;32mc:\\Users\\HP\\AppData\\Local\\Programs\\Python\\Python312\\Lib\\site-packages\\py4j\\java_gateway.py:1712\u001b[0m, in \u001b[0;36mJVMView.__getattr__\u001b[1;34m(self, name)\u001b[0m\n\u001b[0;32m   1709\u001b[0m \u001b[38;5;28;01mif\u001b[39;00m name \u001b[38;5;241m==\u001b[39m UserHelpAutoCompletion\u001b[38;5;241m.\u001b[39mKEY:\n\u001b[0;32m   1710\u001b[0m     \u001b[38;5;28;01mreturn\u001b[39;00m UserHelpAutoCompletion()\n\u001b[1;32m-> 1712\u001b[0m answer \u001b[38;5;241m=\u001b[39m \u001b[38;5;28;43mself\u001b[39;49m\u001b[38;5;241;43m.\u001b[39;49m\u001b[43m_gateway_client\u001b[49m\u001b[38;5;241;43m.\u001b[39;49m\u001b[43msend_command\u001b[49m\u001b[43m(\u001b[49m\n\u001b[0;32m   1713\u001b[0m \u001b[43m    \u001b[49m\u001b[43mproto\u001b[49m\u001b[38;5;241;43m.\u001b[39;49m\u001b[43mREFLECTION_COMMAND_NAME\u001b[49m\u001b[43m \u001b[49m\u001b[38;5;241;43m+\u001b[39;49m\n\u001b[0;32m   1714\u001b[0m \u001b[43m    \u001b[49m\u001b[43mproto\u001b[49m\u001b[38;5;241;43m.\u001b[39;49m\u001b[43mREFL_GET_UNKNOWN_SUB_COMMAND_NAME\u001b[49m\u001b[43m \u001b[49m\u001b[38;5;241;43m+\u001b[39;49m\u001b[43m \u001b[49m\u001b[43mname\u001b[49m\u001b[43m \u001b[49m\u001b[38;5;241;43m+\u001b[39;49m\u001b[43m \u001b[49m\u001b[38;5;124;43m\"\u001b[39;49m\u001b[38;5;130;43;01m\\n\u001b[39;49;00m\u001b[38;5;124;43m\"\u001b[39;49m\u001b[43m \u001b[49m\u001b[38;5;241;43m+\u001b[39;49m\u001b[43m \u001b[49m\u001b[38;5;28;43mself\u001b[39;49m\u001b[38;5;241;43m.\u001b[39;49m\u001b[43m_id\u001b[49m\u001b[43m \u001b[49m\u001b[38;5;241;43m+\u001b[39;49m\n\u001b[0;32m   1715\u001b[0m \u001b[43m    \u001b[49m\u001b[38;5;124;43m\"\u001b[39;49m\u001b[38;5;130;43;01m\\n\u001b[39;49;00m\u001b[38;5;124;43m\"\u001b[39;49m\u001b[43m \u001b[49m\u001b[38;5;241;43m+\u001b[39;49m\u001b[43m \u001b[49m\u001b[43mproto\u001b[49m\u001b[38;5;241;43m.\u001b[39;49m\u001b[43mEND_COMMAND_PART\u001b[49m\u001b[43m)\u001b[49m\n\u001b[0;32m   1716\u001b[0m \u001b[38;5;28;01mif\u001b[39;00m answer \u001b[38;5;241m==\u001b[39m proto\u001b[38;5;241m.\u001b[39mSUCCESS_PACKAGE:\n\u001b[0;32m   1717\u001b[0m     \u001b[38;5;28;01mreturn\u001b[39;00m JavaPackage(name, \u001b[38;5;28mself\u001b[39m\u001b[38;5;241m.\u001b[39m_gateway_client, jvm_id\u001b[38;5;241m=\u001b[39m\u001b[38;5;28mself\u001b[39m\u001b[38;5;241m.\u001b[39m_id)\n",
      "File \u001b[1;32mc:\\Users\\HP\\AppData\\Local\\Programs\\Python\\Python312\\Lib\\site-packages\\py4j\\java_gateway.py:1036\u001b[0m, in \u001b[0;36mGatewayClient.send_command\u001b[1;34m(self, command, retry, binary)\u001b[0m\n\u001b[0;32m   1015\u001b[0m \u001b[38;5;28;01mdef\u001b[39;00m \u001b[38;5;21msend_command\u001b[39m(\u001b[38;5;28mself\u001b[39m, command, retry\u001b[38;5;241m=\u001b[39m\u001b[38;5;28;01mTrue\u001b[39;00m, binary\u001b[38;5;241m=\u001b[39m\u001b[38;5;28;01mFalse\u001b[39;00m):\n\u001b[0;32m   1016\u001b[0m \u001b[38;5;250m    \u001b[39m\u001b[38;5;124;03m\"\"\"Sends a command to the JVM. This method is not intended to be\u001b[39;00m\n\u001b[0;32m   1017\u001b[0m \u001b[38;5;124;03m       called directly by Py4J users. It is usually called by\u001b[39;00m\n\u001b[0;32m   1018\u001b[0m \u001b[38;5;124;03m       :class:`JavaMember` instances.\u001b[39;00m\n\u001b[1;32m   (...)\u001b[0m\n\u001b[0;32m   1034\u001b[0m \u001b[38;5;124;03m     if `binary` is `True`.\u001b[39;00m\n\u001b[0;32m   1035\u001b[0m \u001b[38;5;124;03m    \"\"\"\u001b[39;00m\n\u001b[1;32m-> 1036\u001b[0m     connection \u001b[38;5;241m=\u001b[39m \u001b[38;5;28;43mself\u001b[39;49m\u001b[38;5;241;43m.\u001b[39;49m\u001b[43m_get_connection\u001b[49m\u001b[43m(\u001b[49m\u001b[43m)\u001b[49m\n\u001b[0;32m   1037\u001b[0m     \u001b[38;5;28;01mtry\u001b[39;00m:\n\u001b[0;32m   1038\u001b[0m         response \u001b[38;5;241m=\u001b[39m connection\u001b[38;5;241m.\u001b[39msend_command(command)\n",
      "File \u001b[1;32mc:\\Users\\HP\\AppData\\Local\\Programs\\Python\\Python312\\Lib\\site-packages\\py4j\\clientserver.py:284\u001b[0m, in \u001b[0;36mJavaClient._get_connection\u001b[1;34m(self)\u001b[0m\n\u001b[0;32m    281\u001b[0m     \u001b[38;5;28;01mpass\u001b[39;00m\n\u001b[0;32m    283\u001b[0m \u001b[38;5;28;01mif\u001b[39;00m connection \u001b[38;5;129;01mis\u001b[39;00m \u001b[38;5;28;01mNone\u001b[39;00m \u001b[38;5;129;01mor\u001b[39;00m connection\u001b[38;5;241m.\u001b[39msocket \u001b[38;5;129;01mis\u001b[39;00m \u001b[38;5;28;01mNone\u001b[39;00m:\n\u001b[1;32m--> 284\u001b[0m     connection \u001b[38;5;241m=\u001b[39m \u001b[38;5;28;43mself\u001b[39;49m\u001b[38;5;241;43m.\u001b[39;49m\u001b[43m_create_new_connection\u001b[49m\u001b[43m(\u001b[49m\u001b[43m)\u001b[49m\n\u001b[0;32m    285\u001b[0m \u001b[38;5;28;01mreturn\u001b[39;00m connection\n",
      "File \u001b[1;32mc:\\Users\\HP\\AppData\\Local\\Programs\\Python\\Python312\\Lib\\site-packages\\py4j\\clientserver.py:291\u001b[0m, in \u001b[0;36mJavaClient._create_new_connection\u001b[1;34m(self)\u001b[0m\n\u001b[0;32m    287\u001b[0m \u001b[38;5;28;01mdef\u001b[39;00m \u001b[38;5;21m_create_new_connection\u001b[39m(\u001b[38;5;28mself\u001b[39m):\n\u001b[0;32m    288\u001b[0m     connection \u001b[38;5;241m=\u001b[39m ClientServerConnection(\n\u001b[0;32m    289\u001b[0m         \u001b[38;5;28mself\u001b[39m\u001b[38;5;241m.\u001b[39mjava_parameters, \u001b[38;5;28mself\u001b[39m\u001b[38;5;241m.\u001b[39mpython_parameters,\n\u001b[0;32m    290\u001b[0m         \u001b[38;5;28mself\u001b[39m\u001b[38;5;241m.\u001b[39mgateway_property, \u001b[38;5;28mself\u001b[39m)\n\u001b[1;32m--> 291\u001b[0m     \u001b[43mconnection\u001b[49m\u001b[38;5;241;43m.\u001b[39;49m\u001b[43mconnect_to_java_server\u001b[49m\u001b[43m(\u001b[49m\u001b[43m)\u001b[49m\n\u001b[0;32m    292\u001b[0m     \u001b[38;5;28mself\u001b[39m\u001b[38;5;241m.\u001b[39mset_thread_connection(connection)\n\u001b[0;32m    293\u001b[0m     \u001b[38;5;28;01mreturn\u001b[39;00m connection\n",
      "File \u001b[1;32mc:\\Users\\HP\\AppData\\Local\\Programs\\Python\\Python312\\Lib\\site-packages\\py4j\\clientserver.py:438\u001b[0m, in \u001b[0;36mClientServerConnection.connect_to_java_server\u001b[1;34m(self)\u001b[0m\n\u001b[0;32m    435\u001b[0m \u001b[38;5;28;01mif\u001b[39;00m \u001b[38;5;28mself\u001b[39m\u001b[38;5;241m.\u001b[39mssl_context:\n\u001b[0;32m    436\u001b[0m     \u001b[38;5;28mself\u001b[39m\u001b[38;5;241m.\u001b[39msocket \u001b[38;5;241m=\u001b[39m \u001b[38;5;28mself\u001b[39m\u001b[38;5;241m.\u001b[39mssl_context\u001b[38;5;241m.\u001b[39mwrap_socket(\n\u001b[0;32m    437\u001b[0m         \u001b[38;5;28mself\u001b[39m\u001b[38;5;241m.\u001b[39msocket, server_hostname\u001b[38;5;241m=\u001b[39m\u001b[38;5;28mself\u001b[39m\u001b[38;5;241m.\u001b[39mjava_address)\n\u001b[1;32m--> 438\u001b[0m \u001b[38;5;28;43mself\u001b[39;49m\u001b[38;5;241;43m.\u001b[39;49m\u001b[43msocket\u001b[49m\u001b[38;5;241;43m.\u001b[39;49m\u001b[43mconnect\u001b[49m\u001b[43m(\u001b[49m\u001b[43m(\u001b[49m\u001b[38;5;28;43mself\u001b[39;49m\u001b[38;5;241;43m.\u001b[39;49m\u001b[43mjava_address\u001b[49m\u001b[43m,\u001b[49m\u001b[43m \u001b[49m\u001b[38;5;28;43mself\u001b[39;49m\u001b[38;5;241;43m.\u001b[39;49m\u001b[43mjava_port\u001b[49m\u001b[43m)\u001b[49m\u001b[43m)\u001b[49m\n\u001b[0;32m    439\u001b[0m \u001b[38;5;28mself\u001b[39m\u001b[38;5;241m.\u001b[39mstream \u001b[38;5;241m=\u001b[39m \u001b[38;5;28mself\u001b[39m\u001b[38;5;241m.\u001b[39msocket\u001b[38;5;241m.\u001b[39mmakefile(\u001b[38;5;124m\"\u001b[39m\u001b[38;5;124mrb\u001b[39m\u001b[38;5;124m\"\u001b[39m)\n\u001b[0;32m    440\u001b[0m \u001b[38;5;28mself\u001b[39m\u001b[38;5;241m.\u001b[39mis_connected \u001b[38;5;241m=\u001b[39m \u001b[38;5;28;01mTrue\u001b[39;00m\n",
      "\u001b[1;31mConnectionRefusedError\u001b[0m: [WinError 10061] No connection could be made because the target machine actively refused it"
     ]
    }
   ],
   "source": [
    "from pyspark.sql import SparkSession\n",
    "\n",
    "spark = SparkSession.builder \\\n",
    "    .appName(\"Data Cleansing\") \\\n",
    "    .getOrCreate()\n"
   ]
  },
  {
   "cell_type": "code",
   "execution_count": 70,
   "metadata": {},
   "outputs": [
    {
     "name": "stdout",
     "output_type": "stream",
     "text": [
      "+-------+--------------------+--------------------+------------------+--------------------+--------------------+----------------+----------------+--------------------+--------------+--------------------+----------------+-------------------+\n",
      "|Subject|                 URL|          Identifier|               EID|               Title|             Creator|Publication Name|Publication Date|                 DOI|Cited By Count|    Affiliation Name|Affiliation City|Affiliation Country|\n",
      "+-------+--------------------+--------------------+------------------+--------------------+--------------------+----------------+----------------+--------------------+--------------+--------------------+----------------+-------------------+\n",
      "|   MULT|https://api.elsev...|SCOPUS_ID:8521031...|2-s2.0-85210310976|Emx2 is an essent...|         Nguyen T.K.|        iScience|      2024-12-20|10.1016/j.isci.20...|             0|University of Not...|      Notre Dame|      United States|\n",
      "|   MULT|https://api.elsev...|SCOPUS_ID:8521030...|2-s2.0-85210305527|BMAL1 upregulates...|             Zhou X.|        iScience|      2024-12-20|10.1016/j.isci.20...|             0|West China School...|         Chengdu|              China|\n",
      "|   MULT|https://api.elsev...|SCOPUS_ID:8521030...|2-s2.0-85210300443|Temporal evolutio...|              Sei N.|        iScience|      2024-12-20|10.1016/j.isci.20...|             0|National Institut...|         Tsukuba|              Japan|\n",
      "|   MULT|https://api.elsev...|SCOPUS_ID:8521029...|2-s2.0-85210294689|Deep learning mod...|           Chen P.W.|        iScience|      2024-12-20|10.1016/j.isci.20...|             0|National Cheng Ku...|          Tainan|             Taiwan|\n",
      "|   MULT|https://api.elsev...|SCOPUS_ID:8521029...|2-s2.0-85210292213|Increased CSN5 ex...|         Yamamoto T.|        iScience|      2024-12-20|10.1016/j.isci.20...|             0|Graduate School o...|        Kumamoto|              Japan|\n",
      "|   MULT|https://api.elsev...|SCOPUS_ID:8521028...|2-s2.0-85210285215|Activity-dependen...|Hartal-Benishay L.H.|        iScience|      2024-12-20|10.1016/j.isci.20...|             0| University of Haifa|           Haifa|             Israel|\n",
      "|   MULT|https://api.elsev...|SCOPUS_ID:8521028...|2-s2.0-85210282516|Tumor microenviro...|               Wu J.|        iScience|      2024-12-20|10.1016/j.isci.20...|             0|Southern Medical ...|       Guangzhou|              China|\n",
      "|   MULT|https://api.elsev...|SCOPUS_ID:8521027...|2-s2.0-85210278027|Effect of heat tr...|          Muthu S.M.|        iScience|      2024-12-20|10.1016/j.isci.20...|             0|Chennai Institute...|         Chennai|              India|\n",
      "|   MULT|https://api.elsev...|SCOPUS_ID:8521027...|2-s2.0-85210276442|Single-cell trans...|             Diao X.|        iScience|      2024-12-20|10.1016/j.isci.20...|             0|Sun Yat-Sen Unive...|       Guangzhou|              China|\n",
      "|   MULT|https://api.elsev...|SCOPUS_ID:8521027...|2-s2.0-85210273523|Developing the bi...|               Li X.|        iScience|      2024-12-20|10.1016/j.isci.20...|             0|Tianjin Medical U...|         Tianjin|              China|\n",
      "|   MULT|https://api.elsev...|SCOPUS_ID:8521014...|2-s2.0-85210142446|ProteoNet: A CNN-...|            Huang J.|        iScience|      2024-12-20|10.1016/j.isci.20...|             0|National Institut...|         Beijing|              China|\n",
      "|   MULT|https://api.elsev...|SCOPUS_ID:8521013...|2-s2.0-85210138885|Humoral correlate...|         Irvine E.B.|        iScience|      2024-12-20|10.1016/j.isci.20...|             0|Harvard T.H. Chan...|          Boston|      United States|\n",
      "|   MULT|https://api.elsev...|SCOPUS_ID:8521013...|2-s2.0-85210131274|Cytosolic bacteri...|        Danielson M.|        iScience|      2024-12-20|10.1016/j.isci.20...|             0|University of Cal...|          Irvine|      United States|\n",
      "|   MULT|https://api.elsev...|SCOPUS_ID:8521012...|2-s2.0-85210129966|Bacterial suppres...|             Hong Y.|        iScience|      2024-12-20|10.1016/j.isci.20...|             0|Queensland Univer...|        Brisbane|          Australia|\n",
      "|   MULT|https://api.elsev...|SCOPUS_ID:8521012...|2-s2.0-85210127325|Norway rats recru...|     Engelhardt S.C.|        iScience|      2024-12-20|10.1016/j.isci.20...|             0|Georg-August-Univ...|       Gottingen|            Germany|\n",
      "|   MULT|https://api.elsev...|SCOPUS_ID:8521012...|2-s2.0-85210124944|Perceptual learni...|            Amedi A.|        iScience|      2024-12-20|10.1016/j.isci.20...|             0| Reichman University|        Herzliya|             Israel|\n",
      "|   MULT|https://api.elsev...|SCOPUS_ID:8521012...|2-s2.0-85210123312|Language-specific...|               Li M.|        iScience|      2024-12-20|10.1016/j.isci.20...|             0| Tsinghua University|         Beijing|              China|\n",
      "|   MULT|https://api.elsev...|SCOPUS_ID:8521011...|2-s2.0-85210118634|QuickVol: A light...|        Kuznetsov M.|        iScience|      2024-12-20|10.1016/j.isci.20...|             0|Baskin School of ...|      Santa Cruz|      United States|\n",
      "|   MULT|https://api.elsev...|SCOPUS_ID:8521011...|2-s2.0-85210118521|Lattice physics a...|         Bardella G.|        iScience|      2024-12-20|10.1016/j.isci.20...|             0|Sapienza Universi...|            Rome|              Italy|\n",
      "|   MULT|https://api.elsev...|SCOPUS_ID:8521011...|2-s2.0-85210116651|Intrinsically rob...|          Chiou J.g.|        iScience|      2024-12-20|10.1016/j.isci.20...|             0|University of Cal...|        La Jolla|      United States|\n",
      "+-------+--------------------+--------------------+------------------+--------------------+--------------------+----------------+----------------+--------------------+--------------+--------------------+----------------+-------------------+\n",
      "only showing top 20 rows\n",
      "\n"
     ]
    }
   ],
   "source": [
    "# Load the CSV file into a Spark DataFrame\n",
    "file_path = \"2scopus_300_search.csv\"\n",
    "df = spark.read.csv(file_path, header=True, inferSchema=True)\n",
    "\n",
    "# Show initial data\n",
    "df.show()\n"
   ]
  },
  {
   "cell_type": "code",
   "execution_count": 71,
   "metadata": {},
   "outputs": [
    {
     "name": "stdout",
     "output_type": "stream",
     "text": [
      "+-------+--------------------+--------------------+------------------+--------------------+--------------------+----------------+----------------+--------------------+--------------+--------------------+----------------+-------------------+\n",
      "|Subject|                 URL|          Identifier|               EID|               Title|             Creator|Publication Name|Publication Date|                 DOI|Cited By Count|    Affiliation Name|Affiliation City|Affiliation Country|\n",
      "+-------+--------------------+--------------------+------------------+--------------------+--------------------+----------------+----------------+--------------------+--------------+--------------------+----------------+-------------------+\n",
      "|   MULT|https://api.elsev...|SCOPUS_ID:8521031...|2-s2.0-85210310976|Emx2 is an essent...|         Nguyen T.K.|        iScience|      2024-12-20|10.1016/j.isci.20...|             0|University of Not...|      Notre Dame|      United States|\n",
      "|   MULT|https://api.elsev...|SCOPUS_ID:8521030...|2-s2.0-85210305527|BMAL1 upregulates...|             Zhou X.|        iScience|      2024-12-20|10.1016/j.isci.20...|             0|West China School...|         Chengdu|              China|\n",
      "|   MULT|https://api.elsev...|SCOPUS_ID:8521030...|2-s2.0-85210300443|Temporal evolutio...|              Sei N.|        iScience|      2024-12-20|10.1016/j.isci.20...|             0|National Institut...|         Tsukuba|              Japan|\n",
      "|   MULT|https://api.elsev...|SCOPUS_ID:8521029...|2-s2.0-85210294689|Deep learning mod...|           Chen P.W.|        iScience|      2024-12-20|10.1016/j.isci.20...|             0|National Cheng Ku...|          Tainan|             Taiwan|\n",
      "|   MULT|https://api.elsev...|SCOPUS_ID:8521029...|2-s2.0-85210292213|Increased CSN5 ex...|         Yamamoto T.|        iScience|      2024-12-20|10.1016/j.isci.20...|             0|Graduate School o...|        Kumamoto|              Japan|\n",
      "|   MULT|https://api.elsev...|SCOPUS_ID:8521028...|2-s2.0-85210285215|Activity-dependen...|Hartal-Benishay L.H.|        iScience|      2024-12-20|10.1016/j.isci.20...|             0| University of Haifa|           Haifa|             Israel|\n",
      "|   MULT|https://api.elsev...|SCOPUS_ID:8521028...|2-s2.0-85210282516|Tumor microenviro...|               Wu J.|        iScience|      2024-12-20|10.1016/j.isci.20...|             0|Southern Medical ...|       Guangzhou|              China|\n",
      "|   MULT|https://api.elsev...|SCOPUS_ID:8521027...|2-s2.0-85210278027|Effect of heat tr...|          Muthu S.M.|        iScience|      2024-12-20|10.1016/j.isci.20...|             0|Chennai Institute...|         Chennai|              India|\n",
      "|   MULT|https://api.elsev...|SCOPUS_ID:8521027...|2-s2.0-85210276442|Single-cell trans...|             Diao X.|        iScience|      2024-12-20|10.1016/j.isci.20...|             0|Sun Yat-Sen Unive...|       Guangzhou|              China|\n",
      "|   MULT|https://api.elsev...|SCOPUS_ID:8521027...|2-s2.0-85210273523|Developing the bi...|               Li X.|        iScience|      2024-12-20|10.1016/j.isci.20...|             0|Tianjin Medical U...|         Tianjin|              China|\n",
      "|   MULT|https://api.elsev...|SCOPUS_ID:8521014...|2-s2.0-85210142446|ProteoNet: A CNN-...|            Huang J.|        iScience|      2024-12-20|10.1016/j.isci.20...|             0|National Institut...|         Beijing|              China|\n",
      "|   MULT|https://api.elsev...|SCOPUS_ID:8521013...|2-s2.0-85210138885|Humoral correlate...|         Irvine E.B.|        iScience|      2024-12-20|10.1016/j.isci.20...|             0|Harvard T.H. Chan...|          Boston|      United States|\n",
      "|   MULT|https://api.elsev...|SCOPUS_ID:8521013...|2-s2.0-85210131274|Cytosolic bacteri...|        Danielson M.|        iScience|      2024-12-20|10.1016/j.isci.20...|             0|University of Cal...|          Irvine|      United States|\n",
      "|   MULT|https://api.elsev...|SCOPUS_ID:8521012...|2-s2.0-85210129966|Bacterial suppres...|             Hong Y.|        iScience|      2024-12-20|10.1016/j.isci.20...|             0|Queensland Univer...|        Brisbane|          Australia|\n",
      "|   MULT|https://api.elsev...|SCOPUS_ID:8521012...|2-s2.0-85210127325|Norway rats recru...|     Engelhardt S.C.|        iScience|      2024-12-20|10.1016/j.isci.20...|             0|Georg-August-Univ...|       Gottingen|            Germany|\n",
      "|   MULT|https://api.elsev...|SCOPUS_ID:8521012...|2-s2.0-85210124944|Perceptual learni...|            Amedi A.|        iScience|      2024-12-20|10.1016/j.isci.20...|             0| Reichman University|        Herzliya|             Israel|\n",
      "|   MULT|https://api.elsev...|SCOPUS_ID:8521012...|2-s2.0-85210123312|Language-specific...|               Li M.|        iScience|      2024-12-20|10.1016/j.isci.20...|             0| Tsinghua University|         Beijing|              China|\n",
      "|   MULT|https://api.elsev...|SCOPUS_ID:8521011...|2-s2.0-85210118634|QuickVol: A light...|        Kuznetsov M.|        iScience|      2024-12-20|10.1016/j.isci.20...|             0|Baskin School of ...|      Santa Cruz|      United States|\n",
      "|   MULT|https://api.elsev...|SCOPUS_ID:8521011...|2-s2.0-85210118521|Lattice physics a...|         Bardella G.|        iScience|      2024-12-20|10.1016/j.isci.20...|             0|Sapienza Universi...|            Rome|              Italy|\n",
      "|   MULT|https://api.elsev...|SCOPUS_ID:8521011...|2-s2.0-85210116651|Intrinsically rob...|          Chiou J.g.|        iScience|      2024-12-20|10.1016/j.isci.20...|             0|University of Cal...|        La Jolla|      United States|\n",
      "+-------+--------------------+--------------------+------------------+--------------------+--------------------+----------------+----------------+--------------------+--------------+--------------------+----------------+-------------------+\n",
      "only showing top 20 rows\n",
      "\n",
      "Number of rows after dropping missing values: 7544\n"
     ]
    }
   ],
   "source": [
    "# Drop rows where any of the specified columns have missing values\n",
    "columns_to_check = [\n",
    "    \"Subject\", \"URL\", \"Identifier\", \"EID\", \"Title\", \n",
    "    \"Creator\", \"Publication Name\", \"DOI\", \"Affiliation Name\", \n",
    "    \"Affiliation City\", \"Affiliation Country\"\n",
    "]\n",
    "\n",
    "df = df.na.drop(subset=columns_to_check)\n",
    "\n",
    "# Show the resulting DataFrame\n",
    "df.show()\n",
    "\n",
    "# Count the number of rows after dropping\n",
    "print(f\"Number of rows after dropping missing values: {df.count()}\")\n"
   ]
  },
  {
   "cell_type": "code",
   "execution_count": 72,
   "metadata": {},
   "outputs": [
    {
     "name": "stdout",
     "output_type": "stream",
     "text": [
      "+-------+--------------------+--------------------+------------------+--------------------+--------------------+----------------+----------------+--------------------+--------------+--------------------+----------------+-------------------+----+\n",
      "|Subject|                 URL|          Identifier|               EID|               Title|             Creator|Publication Name|Publication Date|                 DOI|Cited By Count|    Affiliation Name|Affiliation City|Affiliation Country|Year|\n",
      "+-------+--------------------+--------------------+------------------+--------------------+--------------------+----------------+----------------+--------------------+--------------+--------------------+----------------+-------------------+----+\n",
      "|   MULT|https://api.elsev...|SCOPUS_ID:8521031...|2-s2.0-85210310976|Emx2 is an essent...|         Nguyen T.K.|        iScience|      2024-12-20|10.1016/j.isci.20...|             0|University of Not...|      Notre Dame|      United States|2024|\n",
      "|   MULT|https://api.elsev...|SCOPUS_ID:8521030...|2-s2.0-85210305527|BMAL1 upregulates...|             Zhou X.|        iScience|      2024-12-20|10.1016/j.isci.20...|             0|West China School...|         Chengdu|              China|2024|\n",
      "|   MULT|https://api.elsev...|SCOPUS_ID:8521030...|2-s2.0-85210300443|Temporal evolutio...|              Sei N.|        iScience|      2024-12-20|10.1016/j.isci.20...|             0|National Institut...|         Tsukuba|              Japan|2024|\n",
      "|   MULT|https://api.elsev...|SCOPUS_ID:8521029...|2-s2.0-85210294689|Deep learning mod...|           Chen P.W.|        iScience|      2024-12-20|10.1016/j.isci.20...|             0|National Cheng Ku...|          Tainan|             Taiwan|2024|\n",
      "|   MULT|https://api.elsev...|SCOPUS_ID:8521029...|2-s2.0-85210292213|Increased CSN5 ex...|         Yamamoto T.|        iScience|      2024-12-20|10.1016/j.isci.20...|             0|Graduate School o...|        Kumamoto|              Japan|2024|\n",
      "|   MULT|https://api.elsev...|SCOPUS_ID:8521028...|2-s2.0-85210285215|Activity-dependen...|Hartal-Benishay L.H.|        iScience|      2024-12-20|10.1016/j.isci.20...|             0| University of Haifa|           Haifa|             Israel|2024|\n",
      "|   MULT|https://api.elsev...|SCOPUS_ID:8521028...|2-s2.0-85210282516|Tumor microenviro...|               Wu J.|        iScience|      2024-12-20|10.1016/j.isci.20...|             0|Southern Medical ...|       Guangzhou|              China|2024|\n",
      "|   MULT|https://api.elsev...|SCOPUS_ID:8521027...|2-s2.0-85210278027|Effect of heat tr...|          Muthu S.M.|        iScience|      2024-12-20|10.1016/j.isci.20...|             0|Chennai Institute...|         Chennai|              India|2024|\n",
      "|   MULT|https://api.elsev...|SCOPUS_ID:8521027...|2-s2.0-85210276442|Single-cell trans...|             Diao X.|        iScience|      2024-12-20|10.1016/j.isci.20...|             0|Sun Yat-Sen Unive...|       Guangzhou|              China|2024|\n",
      "|   MULT|https://api.elsev...|SCOPUS_ID:8521027...|2-s2.0-85210273523|Developing the bi...|               Li X.|        iScience|      2024-12-20|10.1016/j.isci.20...|             0|Tianjin Medical U...|         Tianjin|              China|2024|\n",
      "|   MULT|https://api.elsev...|SCOPUS_ID:8521014...|2-s2.0-85210142446|ProteoNet: A CNN-...|            Huang J.|        iScience|      2024-12-20|10.1016/j.isci.20...|             0|National Institut...|         Beijing|              China|2024|\n",
      "|   MULT|https://api.elsev...|SCOPUS_ID:8521013...|2-s2.0-85210138885|Humoral correlate...|         Irvine E.B.|        iScience|      2024-12-20|10.1016/j.isci.20...|             0|Harvard T.H. Chan...|          Boston|      United States|2024|\n",
      "|   MULT|https://api.elsev...|SCOPUS_ID:8521013...|2-s2.0-85210131274|Cytosolic bacteri...|        Danielson M.|        iScience|      2024-12-20|10.1016/j.isci.20...|             0|University of Cal...|          Irvine|      United States|2024|\n",
      "|   MULT|https://api.elsev...|SCOPUS_ID:8521012...|2-s2.0-85210129966|Bacterial suppres...|             Hong Y.|        iScience|      2024-12-20|10.1016/j.isci.20...|             0|Queensland Univer...|        Brisbane|          Australia|2024|\n",
      "|   MULT|https://api.elsev...|SCOPUS_ID:8521012...|2-s2.0-85210127325|Norway rats recru...|     Engelhardt S.C.|        iScience|      2024-12-20|10.1016/j.isci.20...|             0|Georg-August-Univ...|       Gottingen|            Germany|2024|\n",
      "|   MULT|https://api.elsev...|SCOPUS_ID:8521012...|2-s2.0-85210124944|Perceptual learni...|            Amedi A.|        iScience|      2024-12-20|10.1016/j.isci.20...|             0| Reichman University|        Herzliya|             Israel|2024|\n",
      "|   MULT|https://api.elsev...|SCOPUS_ID:8521012...|2-s2.0-85210123312|Language-specific...|               Li M.|        iScience|      2024-12-20|10.1016/j.isci.20...|             0| Tsinghua University|         Beijing|              China|2024|\n",
      "|   MULT|https://api.elsev...|SCOPUS_ID:8521011...|2-s2.0-85210118634|QuickVol: A light...|        Kuznetsov M.|        iScience|      2024-12-20|10.1016/j.isci.20...|             0|Baskin School of ...|      Santa Cruz|      United States|2024|\n",
      "|   MULT|https://api.elsev...|SCOPUS_ID:8521011...|2-s2.0-85210118521|Lattice physics a...|         Bardella G.|        iScience|      2024-12-20|10.1016/j.isci.20...|             0|Sapienza Universi...|            Rome|              Italy|2024|\n",
      "|   MULT|https://api.elsev...|SCOPUS_ID:8521011...|2-s2.0-85210116651|Intrinsically rob...|          Chiou J.g.|        iScience|      2024-12-20|10.1016/j.isci.20...|             0|University of Cal...|        La Jolla|      United States|2024|\n",
      "+-------+--------------------+--------------------+------------------+--------------------+--------------------+----------------+----------------+--------------------+--------------+--------------------+----------------+-------------------+----+\n",
      "only showing top 20 rows\n",
      "\n"
     ]
    }
   ],
   "source": [
    "# Add a new column 'year' with the value 2024\n",
    "df = df.withColumn(\"Year\", lit(2024))\n",
    "\n",
    "# Show the updated DataFrame\n",
    "df.show()"
   ]
  },
  {
   "cell_type": "code",
   "execution_count": 73,
   "metadata": {},
   "outputs": [
    {
     "name": "stdout",
     "output_type": "stream",
     "text": [
      "Number of unique countries: 108\n"
     ]
    }
   ],
   "source": [
    "# Count all unique values in the 'Affiliation Country' column\n",
    "unique_countries_count = df.select(\"Affiliation Country\").distinct().count()\n",
    "\n",
    "print(f\"Number of unique countries: {unique_countries_count}\")\n"
   ]
  },
  {
   "cell_type": "code",
   "execution_count": 74,
   "metadata": {},
   "outputs": [
    {
     "name": "stdout",
     "output_type": "stream",
     "text": [
      "+-------+--------------------+------------------+--------------------+--------------------+----------------+----------------+--------------------+--------------+--------------------+----------------+-------------------+----+\n",
      "|Subject|          Identifier|               EID|               Title|             Creator|Publication Name|Publication Date|                 DOI|Cited By Count|    Affiliation Name|Affiliation City|Affiliation Country|Year|\n",
      "+-------+--------------------+------------------+--------------------+--------------------+----------------+----------------+--------------------+--------------+--------------------+----------------+-------------------+----+\n",
      "|   MULT|SCOPUS_ID:8521031...|2-s2.0-85210310976|Emx2 is an essent...|         Nguyen T.K.|        iScience|      2024-12-20|10.1016/j.isci.20...|             0|University of Not...|      Notre Dame|      United States|2024|\n",
      "|   MULT|SCOPUS_ID:8521030...|2-s2.0-85210305527|BMAL1 upregulates...|             Zhou X.|        iScience|      2024-12-20|10.1016/j.isci.20...|             0|West China School...|         Chengdu|              China|2024|\n",
      "|   MULT|SCOPUS_ID:8521030...|2-s2.0-85210300443|Temporal evolutio...|              Sei N.|        iScience|      2024-12-20|10.1016/j.isci.20...|             0|National Institut...|         Tsukuba|              Japan|2024|\n",
      "|   MULT|SCOPUS_ID:8521029...|2-s2.0-85210294689|Deep learning mod...|           Chen P.W.|        iScience|      2024-12-20|10.1016/j.isci.20...|             0|National Cheng Ku...|          Tainan|             Taiwan|2024|\n",
      "|   MULT|SCOPUS_ID:8521029...|2-s2.0-85210292213|Increased CSN5 ex...|         Yamamoto T.|        iScience|      2024-12-20|10.1016/j.isci.20...|             0|Graduate School o...|        Kumamoto|              Japan|2024|\n",
      "|   MULT|SCOPUS_ID:8521028...|2-s2.0-85210285215|Activity-dependen...|Hartal-Benishay L.H.|        iScience|      2024-12-20|10.1016/j.isci.20...|             0| University of Haifa|           Haifa|             Israel|2024|\n",
      "|   MULT|SCOPUS_ID:8521028...|2-s2.0-85210282516|Tumor microenviro...|               Wu J.|        iScience|      2024-12-20|10.1016/j.isci.20...|             0|Southern Medical ...|       Guangzhou|              China|2024|\n",
      "|   MULT|SCOPUS_ID:8521027...|2-s2.0-85210278027|Effect of heat tr...|          Muthu S.M.|        iScience|      2024-12-20|10.1016/j.isci.20...|             0|Chennai Institute...|         Chennai|              India|2024|\n",
      "|   MULT|SCOPUS_ID:8521027...|2-s2.0-85210276442|Single-cell trans...|             Diao X.|        iScience|      2024-12-20|10.1016/j.isci.20...|             0|Sun Yat-Sen Unive...|       Guangzhou|              China|2024|\n",
      "|   MULT|SCOPUS_ID:8521027...|2-s2.0-85210273523|Developing the bi...|               Li X.|        iScience|      2024-12-20|10.1016/j.isci.20...|             0|Tianjin Medical U...|         Tianjin|              China|2024|\n",
      "|   MULT|SCOPUS_ID:8521014...|2-s2.0-85210142446|ProteoNet: A CNN-...|            Huang J.|        iScience|      2024-12-20|10.1016/j.isci.20...|             0|National Institut...|         Beijing|              China|2024|\n",
      "|   MULT|SCOPUS_ID:8521013...|2-s2.0-85210138885|Humoral correlate...|         Irvine E.B.|        iScience|      2024-12-20|10.1016/j.isci.20...|             0|Harvard T.H. Chan...|          Boston|      United States|2024|\n",
      "|   MULT|SCOPUS_ID:8521013...|2-s2.0-85210131274|Cytosolic bacteri...|        Danielson M.|        iScience|      2024-12-20|10.1016/j.isci.20...|             0|University of Cal...|          Irvine|      United States|2024|\n",
      "|   MULT|SCOPUS_ID:8521012...|2-s2.0-85210129966|Bacterial suppres...|             Hong Y.|        iScience|      2024-12-20|10.1016/j.isci.20...|             0|Queensland Univer...|        Brisbane|          Australia|2024|\n",
      "|   MULT|SCOPUS_ID:8521012...|2-s2.0-85210127325|Norway rats recru...|     Engelhardt S.C.|        iScience|      2024-12-20|10.1016/j.isci.20...|             0|Georg-August-Univ...|       Gottingen|            Germany|2024|\n",
      "|   MULT|SCOPUS_ID:8521012...|2-s2.0-85210124944|Perceptual learni...|            Amedi A.|        iScience|      2024-12-20|10.1016/j.isci.20...|             0| Reichman University|        Herzliya|             Israel|2024|\n",
      "|   MULT|SCOPUS_ID:8521012...|2-s2.0-85210123312|Language-specific...|               Li M.|        iScience|      2024-12-20|10.1016/j.isci.20...|             0| Tsinghua University|         Beijing|              China|2024|\n",
      "|   MULT|SCOPUS_ID:8521011...|2-s2.0-85210118634|QuickVol: A light...|        Kuznetsov M.|        iScience|      2024-12-20|10.1016/j.isci.20...|             0|Baskin School of ...|      Santa Cruz|      United States|2024|\n",
      "|   MULT|SCOPUS_ID:8521011...|2-s2.0-85210118521|Lattice physics a...|         Bardella G.|        iScience|      2024-12-20|10.1016/j.isci.20...|             0|Sapienza Universi...|            Rome|              Italy|2024|\n",
      "|   MULT|SCOPUS_ID:8521011...|2-s2.0-85210116651|Intrinsically rob...|          Chiou J.g.|        iScience|      2024-12-20|10.1016/j.isci.20...|             0|University of Cal...|        La Jolla|      United States|2024|\n",
      "+-------+--------------------+------------------+--------------------+--------------------+----------------+----------------+--------------------+--------------+--------------------+----------------+-------------------+----+\n",
      "only showing top 20 rows\n",
      "\n"
     ]
    }
   ],
   "source": [
    "# Drop the 'URL' column from the DataFrame\n",
    "df = df.drop(\"URL\")\n",
    "\n",
    "# Show the updated DataFrame\n",
    "df.show()\n"
   ]
  },
  {
   "cell_type": "code",
   "execution_count": 75,
   "metadata": {},
   "outputs": [
    {
     "name": "stdout",
     "output_type": "stream",
     "text": [
      "Number of rows before filtering: 7544\n",
      "+-------+--------------------+------------------+--------------------+--------------------+----------------+----------------+--------------------+--------------+--------------------+----------------+-------------------+----+\n",
      "|Subject|          Identifier|               EID|               Title|             Creator|Publication Name|Publication Date|                 DOI|Cited By Count|    Affiliation Name|Affiliation City|Affiliation Country|Year|\n",
      "+-------+--------------------+------------------+--------------------+--------------------+----------------+----------------+--------------------+--------------+--------------------+----------------+-------------------+----+\n",
      "|   MULT|SCOPUS_ID:8521031...|2-s2.0-85210310976|Emx2 is an essent...|         Nguyen T.K.|        iScience|      2024-12-20|10.1016/j.isci.20...|             0|University of Not...|      Notre Dame|      United States|2024|\n",
      "|   MULT|SCOPUS_ID:8521030...|2-s2.0-85210305527|BMAL1 upregulates...|             Zhou X.|        iScience|      2024-12-20|10.1016/j.isci.20...|             0|West China School...|         Chengdu|              China|2024|\n",
      "|   MULT|SCOPUS_ID:8521030...|2-s2.0-85210300443|Temporal evolutio...|              Sei N.|        iScience|      2024-12-20|10.1016/j.isci.20...|             0|National Institut...|         Tsukuba|              Japan|2024|\n",
      "|   MULT|SCOPUS_ID:8521029...|2-s2.0-85210294689|Deep learning mod...|           Chen P.W.|        iScience|      2024-12-20|10.1016/j.isci.20...|             0|National Cheng Ku...|          Tainan|             Taiwan|2024|\n",
      "|   MULT|SCOPUS_ID:8521029...|2-s2.0-85210292213|Increased CSN5 ex...|         Yamamoto T.|        iScience|      2024-12-20|10.1016/j.isci.20...|             0|Graduate School o...|        Kumamoto|              Japan|2024|\n",
      "|   MULT|SCOPUS_ID:8521028...|2-s2.0-85210285215|Activity-dependen...|Hartal-Benishay L.H.|        iScience|      2024-12-20|10.1016/j.isci.20...|             0| University of Haifa|           Haifa|             Israel|2024|\n",
      "|   MULT|SCOPUS_ID:8521028...|2-s2.0-85210282516|Tumor microenviro...|               Wu J.|        iScience|      2024-12-20|10.1016/j.isci.20...|             0|Southern Medical ...|       Guangzhou|              China|2024|\n",
      "|   MULT|SCOPUS_ID:8521027...|2-s2.0-85210278027|Effect of heat tr...|          Muthu S.M.|        iScience|      2024-12-20|10.1016/j.isci.20...|             0|Chennai Institute...|         Chennai|              India|2024|\n",
      "|   MULT|SCOPUS_ID:8521027...|2-s2.0-85210276442|Single-cell trans...|             Diao X.|        iScience|      2024-12-20|10.1016/j.isci.20...|             0|Sun Yat-Sen Unive...|       Guangzhou|              China|2024|\n",
      "|   MULT|SCOPUS_ID:8521027...|2-s2.0-85210273523|Developing the bi...|               Li X.|        iScience|      2024-12-20|10.1016/j.isci.20...|             0|Tianjin Medical U...|         Tianjin|              China|2024|\n",
      "|   MULT|SCOPUS_ID:8521014...|2-s2.0-85210142446|ProteoNet: A CNN-...|            Huang J.|        iScience|      2024-12-20|10.1016/j.isci.20...|             0|National Institut...|         Beijing|              China|2024|\n",
      "|   MULT|SCOPUS_ID:8521013...|2-s2.0-85210138885|Humoral correlate...|         Irvine E.B.|        iScience|      2024-12-20|10.1016/j.isci.20...|             0|Harvard T.H. Chan...|          Boston|      United States|2024|\n",
      "|   MULT|SCOPUS_ID:8521013...|2-s2.0-85210131274|Cytosolic bacteri...|        Danielson M.|        iScience|      2024-12-20|10.1016/j.isci.20...|             0|University of Cal...|          Irvine|      United States|2024|\n",
      "|   MULT|SCOPUS_ID:8521012...|2-s2.0-85210129966|Bacterial suppres...|             Hong Y.|        iScience|      2024-12-20|10.1016/j.isci.20...|             0|Queensland Univer...|        Brisbane|          Australia|2024|\n",
      "|   MULT|SCOPUS_ID:8521012...|2-s2.0-85210127325|Norway rats recru...|     Engelhardt S.C.|        iScience|      2024-12-20|10.1016/j.isci.20...|             0|Georg-August-Univ...|       Gottingen|            Germany|2024|\n",
      "|   MULT|SCOPUS_ID:8521012...|2-s2.0-85210124944|Perceptual learni...|            Amedi A.|        iScience|      2024-12-20|10.1016/j.isci.20...|             0| Reichman University|        Herzliya|             Israel|2024|\n",
      "|   MULT|SCOPUS_ID:8521012...|2-s2.0-85210123312|Language-specific...|               Li M.|        iScience|      2024-12-20|10.1016/j.isci.20...|             0| Tsinghua University|         Beijing|              China|2024|\n",
      "|   MULT|SCOPUS_ID:8521011...|2-s2.0-85210118634|QuickVol: A light...|        Kuznetsov M.|        iScience|      2024-12-20|10.1016/j.isci.20...|             0|Baskin School of ...|      Santa Cruz|      United States|2024|\n",
      "|   MULT|SCOPUS_ID:8521011...|2-s2.0-85210118521|Lattice physics a...|         Bardella G.|        iScience|      2024-12-20|10.1016/j.isci.20...|             0|Sapienza Universi...|            Rome|              Italy|2024|\n",
      "|   MULT|SCOPUS_ID:8521011...|2-s2.0-85210116651|Intrinsically rob...|          Chiou J.g.|        iScience|      2024-12-20|10.1016/j.isci.20...|             0|University of Cal...|        La Jolla|      United States|2024|\n",
      "+-------+--------------------+------------------+--------------------+--------------------+----------------+----------------+--------------------+--------------+--------------------+----------------+-------------------+----+\n",
      "only showing top 20 rows\n",
      "\n",
      "Number of rows remaining after filtering: 7544\n"
     ]
    }
   ],
   "source": [
    "# Ensure 'Publication Date' is in a proper date format\n",
    "df = df.withColumn(\"Publication Date\", col(\"Publication Date\").cast(\"date\"))\n",
    "print(f\"Number of rows before filtering: {df.count()}\")\n",
    "\n",
    "# Drop rows where 'Publication Date' is not in 2024\n",
    "df = df.filter(year(col(\"Publication Date\")) == 2024)\n",
    "\n",
    "# Show the filtered DataFrame\n",
    "df.show()\n",
    "\n",
    "# Count the number of remaining rows\n",
    "print(f\"Number of rows remaining after filtering: {df.count()}\")"
   ]
  },
  {
   "cell_type": "code",
   "execution_count": 76,
   "metadata": {},
   "outputs": [
    {
     "name": "stdout",
     "output_type": "stream",
     "text": [
      "Number of NULLs in 'Publication Date': 0\n",
      "Number of NULLs in 'Cited By Count': 0\n"
     ]
    }
   ],
   "source": [
    "# Count NULLs in 'Publication Date'\n",
    "null_pub_date = df.filter(col(\"Publication Date\").isNull()).count()\n",
    "\n",
    "# Count NULLs in 'Cited By Count'\n",
    "null_cited_by_count = df.filter(col(\"Cited By Count\").isNull()).count()\n",
    "\n",
    "print(f\"Number of NULLs in 'Publication Date': {null_pub_date}\")\n",
    "print(f\"Number of NULLs in 'Cited By Count': {null_cited_by_count}\")"
   ]
  },
  {
   "cell_type": "code",
   "execution_count": 77,
   "metadata": {},
   "outputs": [
    {
     "name": "stdout",
     "output_type": "stream",
     "text": [
      "+-------+--------------------+------------------+--------------------+--------------------+----------------+----------------+--------------------+--------------+--------------------+----------------+-------------------+----+\n",
      "|Subject|          Identifier|               EID|               Title|             Creator|Publication Name|Publication Date|                 DOI|Cited By Count|    Affiliation Name|Affiliation City|Affiliation Country|Year|\n",
      "+-------+--------------------+------------------+--------------------+--------------------+----------------+----------------+--------------------+--------------+--------------------+----------------+-------------------+----+\n",
      "|   MULT|SCOPUS_ID:8521031...|2-s2.0-85210310976|Emx2 is an essent...|         Nguyen T.K.|        iScience|      2024-12-20|10.1016/j.isci.20...|             0|University of Not...|      Notre Dame|      United States|2024|\n",
      "|   MULT|SCOPUS_ID:8521030...|2-s2.0-85210305527|BMAL1 upregulates...|             Zhou X.|        iScience|      2024-12-20|10.1016/j.isci.20...|             0|West China School...|         Chengdu|              China|2024|\n",
      "|   MULT|SCOPUS_ID:8521030...|2-s2.0-85210300443|Temporal evolutio...|              Sei N.|        iScience|      2024-12-20|10.1016/j.isci.20...|             0|National Institut...|         Tsukuba|              Japan|2024|\n",
      "|   MULT|SCOPUS_ID:8521029...|2-s2.0-85210294689|Deep learning mod...|           Chen P.W.|        iScience|      2024-12-20|10.1016/j.isci.20...|             0|National Cheng Ku...|          Tainan|             Taiwan|2024|\n",
      "|   MULT|SCOPUS_ID:8521029...|2-s2.0-85210292213|Increased CSN5 ex...|         Yamamoto T.|        iScience|      2024-12-20|10.1016/j.isci.20...|             0|Graduate School o...|        Kumamoto|              Japan|2024|\n",
      "|   MULT|SCOPUS_ID:8521028...|2-s2.0-85210285215|Activity-dependen...|Hartal-Benishay L.H.|        iScience|      2024-12-20|10.1016/j.isci.20...|             0| University of Haifa|           Haifa|             Israel|2024|\n",
      "|   MULT|SCOPUS_ID:8521028...|2-s2.0-85210282516|Tumor microenviro...|               Wu J.|        iScience|      2024-12-20|10.1016/j.isci.20...|             0|Southern Medical ...|       Guangzhou|              China|2024|\n",
      "|   MULT|SCOPUS_ID:8521027...|2-s2.0-85210278027|Effect of heat tr...|          Muthu S.M.|        iScience|      2024-12-20|10.1016/j.isci.20...|             0|Chennai Institute...|         Chennai|              India|2024|\n",
      "|   MULT|SCOPUS_ID:8521027...|2-s2.0-85210276442|Single-cell trans...|             Diao X.|        iScience|      2024-12-20|10.1016/j.isci.20...|             0|Sun Yat-Sen Unive...|       Guangzhou|              China|2024|\n",
      "|   MULT|SCOPUS_ID:8521027...|2-s2.0-85210273523|Developing the bi...|               Li X.|        iScience|      2024-12-20|10.1016/j.isci.20...|             0|Tianjin Medical U...|         Tianjin|              China|2024|\n",
      "|   MULT|SCOPUS_ID:8521014...|2-s2.0-85210142446|ProteoNet: A CNN-...|            Huang J.|        iScience|      2024-12-20|10.1016/j.isci.20...|             0|National Institut...|         Beijing|              China|2024|\n",
      "|   MULT|SCOPUS_ID:8521013...|2-s2.0-85210138885|Humoral correlate...|         Irvine E.B.|        iScience|      2024-12-20|10.1016/j.isci.20...|             0|Harvard T.H. Chan...|          Boston|      United States|2024|\n",
      "|   MULT|SCOPUS_ID:8521013...|2-s2.0-85210131274|Cytosolic bacteri...|        Danielson M.|        iScience|      2024-12-20|10.1016/j.isci.20...|             0|University of Cal...|          Irvine|      United States|2024|\n",
      "|   MULT|SCOPUS_ID:8521012...|2-s2.0-85210129966|Bacterial suppres...|             Hong Y.|        iScience|      2024-12-20|10.1016/j.isci.20...|             0|Queensland Univer...|        Brisbane|          Australia|2024|\n",
      "|   MULT|SCOPUS_ID:8521012...|2-s2.0-85210127325|Norway rats recru...|     Engelhardt S.C.|        iScience|      2024-12-20|10.1016/j.isci.20...|             0|Georg-August-Univ...|       Gottingen|            Germany|2024|\n",
      "|   MULT|SCOPUS_ID:8521012...|2-s2.0-85210124944|Perceptual learni...|            Amedi A.|        iScience|      2024-12-20|10.1016/j.isci.20...|             0| Reichman University|        Herzliya|             Israel|2024|\n",
      "|   MULT|SCOPUS_ID:8521012...|2-s2.0-85210123312|Language-specific...|               Li M.|        iScience|      2024-12-20|10.1016/j.isci.20...|             0| Tsinghua University|         Beijing|              China|2024|\n",
      "|   MULT|SCOPUS_ID:8521011...|2-s2.0-85210118634|QuickVol: A light...|        Kuznetsov M.|        iScience|      2024-12-20|10.1016/j.isci.20...|             0|Baskin School of ...|      Santa Cruz|      United States|2024|\n",
      "|   MULT|SCOPUS_ID:8521011...|2-s2.0-85210118521|Lattice physics a...|         Bardella G.|        iScience|      2024-12-20|10.1016/j.isci.20...|             0|Sapienza Universi...|            Rome|              Italy|2024|\n",
      "|   MULT|SCOPUS_ID:8521011...|2-s2.0-85210116651|Intrinsically rob...|          Chiou J.g.|        iScience|      2024-12-20|10.1016/j.isci.20...|             0|University of Cal...|        La Jolla|      United States|2024|\n",
      "+-------+--------------------+------------------+--------------------+--------------------+----------------+----------------+--------------------+--------------+--------------------+----------------+-------------------+----+\n",
      "only showing top 20 rows\n",
      "\n"
     ]
    }
   ],
   "source": [
    "df.show()"
   ]
  },
  {
   "cell_type": "code",
   "execution_count": 79,
   "metadata": {},
   "outputs": [
    {
     "ename": "Py4JJavaError",
     "evalue": "An error occurred while calling o338.csv.\n: java.lang.RuntimeException: java.io.FileNotFoundException: java.io.FileNotFoundException: HADOOP_HOME and hadoop.home.dir are unset. -see https://wiki.apache.org/hadoop/WindowsProblems\r\n\tat org.apache.hadoop.util.Shell.getWinUtilsPath(Shell.java:735)\r\n\tat org.apache.hadoop.util.Shell.getSetPermissionCommand(Shell.java:270)\r\n\tat org.apache.hadoop.util.Shell.getSetPermissionCommand(Shell.java:286)\r\n\tat org.apache.hadoop.fs.RawLocalFileSystem.setPermission(RawLocalFileSystem.java:978)\r\n\tat org.apache.hadoop.fs.RawLocalFileSystem.mkOneDirWithMode(RawLocalFileSystem.java:660)\r\n\tat org.apache.hadoop.fs.RawLocalFileSystem.mkdirsWithOptionalPermission(RawLocalFileSystem.java:700)\r\n\tat org.apache.hadoop.fs.RawLocalFileSystem.mkdirs(RawLocalFileSystem.java:672)\r\n\tat org.apache.hadoop.fs.RawLocalFileSystem.mkdirsWithOptionalPermission(RawLocalFileSystem.java:699)\r\n\tat org.apache.hadoop.fs.RawLocalFileSystem.mkdirs(RawLocalFileSystem.java:672)\r\n\tat org.apache.hadoop.fs.RawLocalFileSystem.mkdirsWithOptionalPermission(RawLocalFileSystem.java:699)\r\n\tat org.apache.hadoop.fs.RawLocalFileSystem.mkdirs(RawLocalFileSystem.java:672)\r\n\tat org.apache.hadoop.fs.ChecksumFileSystem.mkdirs(ChecksumFileSystem.java:788)\r\n\tat org.apache.hadoop.mapreduce.lib.output.FileOutputCommitter.setupJob(FileOutputCommitter.java:356)\r\n\tat org.apache.spark.internal.io.HadoopMapReduceCommitProtocol.setupJob(HadoopMapReduceCommitProtocol.scala:188)\r\n\tat org.apache.spark.sql.execution.datasources.FileFormatWriter$.writeAndCommit(FileFormatWriter.scala:269)\r\n\tat org.apache.spark.sql.execution.datasources.FileFormatWriter$.executeWrite(FileFormatWriter.scala:304)\r\n\tat org.apache.spark.sql.execution.datasources.FileFormatWriter$.write(FileFormatWriter.scala:190)\r\n\tat org.apache.spark.sql.execution.datasources.InsertIntoHadoopFsRelationCommand.run(InsertIntoHadoopFsRelationCommand.scala:190)\r\n\tat org.apache.spark.sql.execution.command.DataWritingCommandExec.sideEffectResult$lzycompute(commands.scala:113)\r\n\tat org.apache.spark.sql.execution.command.DataWritingCommandExec.sideEffectResult(commands.scala:111)\r\n\tat org.apache.spark.sql.execution.command.DataWritingCommandExec.executeCollect(commands.scala:125)\r\n\tat org.apache.spark.sql.execution.QueryExecution$$anonfun$eagerlyExecuteCommands$1.$anonfun$applyOrElse$1(QueryExecution.scala:107)\r\n\tat org.apache.spark.sql.execution.SQLExecution$.$anonfun$withNewExecutionId$6(SQLExecution.scala:125)\r\n\tat org.apache.spark.sql.execution.SQLExecution$.withSQLConfPropagated(SQLExecution.scala:201)\r\n\tat org.apache.spark.sql.execution.SQLExecution$.$anonfun$withNewExecutionId$1(SQLExecution.scala:108)\r\n\tat org.apache.spark.sql.SparkSession.withActive(SparkSession.scala:900)\r\n\tat org.apache.spark.sql.execution.SQLExecution$.withNewExecutionId(SQLExecution.scala:66)\r\n\tat org.apache.spark.sql.execution.QueryExecution$$anonfun$eagerlyExecuteCommands$1.applyOrElse(QueryExecution.scala:107)\r\n\tat org.apache.spark.sql.execution.QueryExecution$$anonfun$eagerlyExecuteCommands$1.applyOrElse(QueryExecution.scala:98)\r\n\tat org.apache.spark.sql.catalyst.trees.TreeNode.$anonfun$transformDownWithPruning$1(TreeNode.scala:461)\r\n\tat org.apache.spark.sql.catalyst.trees.CurrentOrigin$.withOrigin(origin.scala:76)\r\n\tat org.apache.spark.sql.catalyst.trees.TreeNode.transformDownWithPruning(TreeNode.scala:461)\r\n\tat org.apache.spark.sql.catalyst.plans.logical.LogicalPlan.org$apache$spark$sql$catalyst$plans$logical$AnalysisHelper$$super$transformDownWithPruning(LogicalPlan.scala:32)\r\n\tat org.apache.spark.sql.catalyst.plans.logical.AnalysisHelper.transformDownWithPruning(AnalysisHelper.scala:267)\r\n\tat org.apache.spark.sql.catalyst.plans.logical.AnalysisHelper.transformDownWithPruning$(AnalysisHelper.scala:263)\r\n\tat org.apache.spark.sql.catalyst.plans.logical.LogicalPlan.transformDownWithPruning(LogicalPlan.scala:32)\r\n\tat org.apache.spark.sql.catalyst.plans.logical.LogicalPlan.transformDownWithPruning(LogicalPlan.scala:32)\r\n\tat org.apache.spark.sql.catalyst.trees.TreeNode.transformDown(TreeNode.scala:437)\r\n\tat org.apache.spark.sql.execution.QueryExecution.eagerlyExecuteCommands(QueryExecution.scala:98)\r\n\tat org.apache.spark.sql.execution.QueryExecution.commandExecuted$lzycompute(QueryExecution.scala:85)\r\n\tat org.apache.spark.sql.execution.QueryExecution.commandExecuted(QueryExecution.scala:83)\r\n\tat org.apache.spark.sql.execution.QueryExecution.assertCommandExecuted(QueryExecution.scala:142)\r\n\tat org.apache.spark.sql.DataFrameWriter.runCommand(DataFrameWriter.scala:869)\r\n\tat org.apache.spark.sql.DataFrameWriter.saveToV1Source(DataFrameWriter.scala:391)\r\n\tat org.apache.spark.sql.DataFrameWriter.saveInternal(DataFrameWriter.scala:364)\r\n\tat org.apache.spark.sql.DataFrameWriter.save(DataFrameWriter.scala:243)\r\n\tat org.apache.spark.sql.DataFrameWriter.csv(DataFrameWriter.scala:860)\r\n\tat java.base/jdk.internal.reflect.NativeMethodAccessorImpl.invoke0(Native Method)\r\n\tat java.base/jdk.internal.reflect.NativeMethodAccessorImpl.invoke(NativeMethodAccessorImpl.java:75)\r\n\tat java.base/jdk.internal.reflect.DelegatingMethodAccessorImpl.invoke(DelegatingMethodAccessorImpl.java:52)\r\n\tat java.base/java.lang.reflect.Method.invoke(Method.java:578)\r\n\tat py4j.reflection.MethodInvoker.invoke(MethodInvoker.java:244)\r\n\tat py4j.reflection.ReflectionEngine.invoke(ReflectionEngine.java:374)\r\n\tat py4j.Gateway.invoke(Gateway.java:282)\r\n\tat py4j.commands.AbstractCommand.invokeMethod(AbstractCommand.java:132)\r\n\tat py4j.commands.CallCommand.execute(CallCommand.java:79)\r\n\tat py4j.ClientServerConnection.waitForCommands(ClientServerConnection.java:182)\r\n\tat py4j.ClientServerConnection.run(ClientServerConnection.java:106)\r\n\tat java.base/java.lang.Thread.run(Thread.java:1623)\r\nCaused by: java.io.FileNotFoundException: java.io.FileNotFoundException: HADOOP_HOME and hadoop.home.dir are unset. -see https://wiki.apache.org/hadoop/WindowsProblems\r\n\tat org.apache.hadoop.util.Shell.fileNotFoundException(Shell.java:547)\r\n\tat org.apache.hadoop.util.Shell.getHadoopHomeDir(Shell.java:568)\r\n\tat org.apache.hadoop.util.Shell.getQualifiedBin(Shell.java:591)\r\n\tat org.apache.hadoop.util.Shell.<clinit>(Shell.java:688)\r\n\tat org.apache.hadoop.util.StringUtils.<clinit>(StringUtils.java:79)\r\n\tat org.apache.hadoop.conf.Configuration.getTimeDurationHelper(Configuration.java:1907)\r\n\tat org.apache.hadoop.conf.Configuration.getTimeDuration(Configuration.java:1867)\r\n\tat org.apache.hadoop.conf.Configuration.getTimeDuration(Configuration.java:1840)\r\n\tat org.apache.hadoop.util.ShutdownHookManager.getShutdownTimeout(ShutdownHookManager.java:183)\r\n\tat org.apache.hadoop.util.ShutdownHookManager$HookEntry.<init>(ShutdownHookManager.java:207)\r\n\tat org.apache.hadoop.util.ShutdownHookManager.addShutdownHook(ShutdownHookManager.java:304)\r\n\tat org.apache.spark.util.SparkShutdownHookManager.install(ShutdownHookManager.scala:181)\r\n\tat org.apache.spark.util.ShutdownHookManager$.shutdownHooks$lzycompute(ShutdownHookManager.scala:50)\r\n\tat org.apache.spark.util.ShutdownHookManager$.shutdownHooks(ShutdownHookManager.scala:48)\r\n\tat org.apache.spark.util.ShutdownHookManager$.addShutdownHook(ShutdownHookManager.scala:153)\r\n\tat org.apache.spark.util.ShutdownHookManager$.<init>(ShutdownHookManager.scala:58)\r\n\tat org.apache.spark.util.ShutdownHookManager$.<clinit>(ShutdownHookManager.scala)\r\n\tat org.apache.spark.util.Utils$.createTempDir(Utils.scala:242)\r\n\tat org.apache.spark.util.SparkFileUtils.createTempDir(SparkFileUtils.scala:103)\r\n\tat org.apache.spark.util.SparkFileUtils.createTempDir$(SparkFileUtils.scala:102)\r\n\tat org.apache.spark.util.Utils$.createTempDir(Utils.scala:94)\r\n\tat org.apache.spark.deploy.SparkSubmit.prepareSubmitEnvironment(SparkSubmit.scala:372)\r\n\tat org.apache.spark.deploy.SparkSubmit.org$apache$spark$deploy$SparkSubmit$$runMain(SparkSubmit.scala:964)\r\n\tat org.apache.spark.deploy.SparkSubmit.doRunMain$1(SparkSubmit.scala:194)\r\n\tat org.apache.spark.deploy.SparkSubmit.submit(SparkSubmit.scala:217)\r\n\tat org.apache.spark.deploy.SparkSubmit.doSubmit(SparkSubmit.scala:91)\r\n\tat org.apache.spark.deploy.SparkSubmit$$anon$2.doSubmit(SparkSubmit.scala:1120)\r\n\tat org.apache.spark.deploy.SparkSubmit$.main(SparkSubmit.scala:1129)\r\n\tat org.apache.spark.deploy.SparkSubmit.main(SparkSubmit.scala)\r\nCaused by: java.io.FileNotFoundException: HADOOP_HOME and hadoop.home.dir are unset.\r\n\tat org.apache.hadoop.util.Shell.checkHadoopHomeInner(Shell.java:467)\r\n\tat org.apache.hadoop.util.Shell.checkHadoopHome(Shell.java:438)\r\n\tat org.apache.hadoop.util.Shell.<clinit>(Shell.java:515)\r\n\t... 25 more\r\n",
     "output_type": "error",
     "traceback": [
      "\u001b[1;31m---------------------------------------------------------------------------\u001b[0m",
      "\u001b[1;31mPy4JJavaError\u001b[0m                             Traceback (most recent call last)",
      "Cell \u001b[1;32mIn[79], line 5\u001b[0m\n\u001b[0;32m      2\u001b[0m \u001b[38;5;28;01mimport\u001b[39;00m \u001b[38;5;21;01mos\u001b[39;00m\n\u001b[0;32m      4\u001b[0m output_path \u001b[38;5;241m=\u001b[39m os\u001b[38;5;241m.\u001b[39mpath\u001b[38;5;241m.\u001b[39mabspath(\u001b[38;5;124m\"\u001b[39m\u001b[38;5;124mcleaned_308_researches.csv\u001b[39m\u001b[38;5;124m\"\u001b[39m)\n\u001b[1;32m----> 5\u001b[0m \u001b[43mdf\u001b[49m\u001b[38;5;241;43m.\u001b[39;49m\u001b[43mwrite\u001b[49m\u001b[38;5;241;43m.\u001b[39;49m\u001b[43mcsv\u001b[49m\u001b[43m(\u001b[49m\u001b[43moutput_path\u001b[49m\u001b[43m,\u001b[49m\u001b[43m \u001b[49m\u001b[43mheader\u001b[49m\u001b[38;5;241;43m=\u001b[39;49m\u001b[38;5;28;43;01mTrue\u001b[39;49;00m\u001b[43m,\u001b[49m\u001b[43m \u001b[49m\u001b[43mmode\u001b[49m\u001b[38;5;241;43m=\u001b[39;49m\u001b[38;5;124;43m\"\u001b[39;49m\u001b[38;5;124;43moverwrite\u001b[39;49m\u001b[38;5;124;43m\"\u001b[39;49m\u001b[43m)\u001b[49m\n\u001b[0;32m      7\u001b[0m \u001b[38;5;28mprint\u001b[39m(\u001b[38;5;124mf\u001b[39m\u001b[38;5;124m\"\u001b[39m\u001b[38;5;124mDataFrame saved to \u001b[39m\u001b[38;5;132;01m{\u001b[39;00moutput_path\u001b[38;5;132;01m}\u001b[39;00m\u001b[38;5;124m\"\u001b[39m)\n",
      "File \u001b[1;32mc:\\Users\\HP\\AppData\\Local\\Programs\\Python\\Python312\\Lib\\site-packages\\pyspark\\sql\\readwriter.py:1864\u001b[0m, in \u001b[0;36mDataFrameWriter.csv\u001b[1;34m(self, path, mode, compression, sep, quote, escape, header, nullValue, escapeQuotes, quoteAll, dateFormat, timestampFormat, ignoreLeadingWhiteSpace, ignoreTrailingWhiteSpace, charToEscapeQuoteEscaping, encoding, emptyValue, lineSep)\u001b[0m\n\u001b[0;32m   1845\u001b[0m \u001b[38;5;28mself\u001b[39m\u001b[38;5;241m.\u001b[39mmode(mode)\n\u001b[0;32m   1846\u001b[0m \u001b[38;5;28mself\u001b[39m\u001b[38;5;241m.\u001b[39m_set_opts(\n\u001b[0;32m   1847\u001b[0m     compression\u001b[38;5;241m=\u001b[39mcompression,\n\u001b[0;32m   1848\u001b[0m     sep\u001b[38;5;241m=\u001b[39msep,\n\u001b[1;32m   (...)\u001b[0m\n\u001b[0;32m   1862\u001b[0m     lineSep\u001b[38;5;241m=\u001b[39mlineSep,\n\u001b[0;32m   1863\u001b[0m )\n\u001b[1;32m-> 1864\u001b[0m \u001b[38;5;28;43mself\u001b[39;49m\u001b[38;5;241;43m.\u001b[39;49m\u001b[43m_jwrite\u001b[49m\u001b[38;5;241;43m.\u001b[39;49m\u001b[43mcsv\u001b[49m\u001b[43m(\u001b[49m\u001b[43mpath\u001b[49m\u001b[43m)\u001b[49m\n",
      "File \u001b[1;32mc:\\Users\\HP\\AppData\\Local\\Programs\\Python\\Python312\\Lib\\site-packages\\py4j\\java_gateway.py:1322\u001b[0m, in \u001b[0;36mJavaMember.__call__\u001b[1;34m(self, *args)\u001b[0m\n\u001b[0;32m   1316\u001b[0m command \u001b[38;5;241m=\u001b[39m proto\u001b[38;5;241m.\u001b[39mCALL_COMMAND_NAME \u001b[38;5;241m+\u001b[39m\\\n\u001b[0;32m   1317\u001b[0m     \u001b[38;5;28mself\u001b[39m\u001b[38;5;241m.\u001b[39mcommand_header \u001b[38;5;241m+\u001b[39m\\\n\u001b[0;32m   1318\u001b[0m     args_command \u001b[38;5;241m+\u001b[39m\\\n\u001b[0;32m   1319\u001b[0m     proto\u001b[38;5;241m.\u001b[39mEND_COMMAND_PART\n\u001b[0;32m   1321\u001b[0m answer \u001b[38;5;241m=\u001b[39m \u001b[38;5;28mself\u001b[39m\u001b[38;5;241m.\u001b[39mgateway_client\u001b[38;5;241m.\u001b[39msend_command(command)\n\u001b[1;32m-> 1322\u001b[0m return_value \u001b[38;5;241m=\u001b[39m \u001b[43mget_return_value\u001b[49m\u001b[43m(\u001b[49m\n\u001b[0;32m   1323\u001b[0m \u001b[43m    \u001b[49m\u001b[43manswer\u001b[49m\u001b[43m,\u001b[49m\u001b[43m \u001b[49m\u001b[38;5;28;43mself\u001b[39;49m\u001b[38;5;241;43m.\u001b[39;49m\u001b[43mgateway_client\u001b[49m\u001b[43m,\u001b[49m\u001b[43m \u001b[49m\u001b[38;5;28;43mself\u001b[39;49m\u001b[38;5;241;43m.\u001b[39;49m\u001b[43mtarget_id\u001b[49m\u001b[43m,\u001b[49m\u001b[43m \u001b[49m\u001b[38;5;28;43mself\u001b[39;49m\u001b[38;5;241;43m.\u001b[39;49m\u001b[43mname\u001b[49m\u001b[43m)\u001b[49m\n\u001b[0;32m   1325\u001b[0m \u001b[38;5;28;01mfor\u001b[39;00m temp_arg \u001b[38;5;129;01min\u001b[39;00m temp_args:\n\u001b[0;32m   1326\u001b[0m     \u001b[38;5;28;01mif\u001b[39;00m \u001b[38;5;28mhasattr\u001b[39m(temp_arg, \u001b[38;5;124m\"\u001b[39m\u001b[38;5;124m_detach\u001b[39m\u001b[38;5;124m\"\u001b[39m):\n",
      "File \u001b[1;32mc:\\Users\\HP\\AppData\\Local\\Programs\\Python\\Python312\\Lib\\site-packages\\pyspark\\errors\\exceptions\\captured.py:179\u001b[0m, in \u001b[0;36mcapture_sql_exception.<locals>.deco\u001b[1;34m(*a, **kw)\u001b[0m\n\u001b[0;32m    177\u001b[0m \u001b[38;5;28;01mdef\u001b[39;00m \u001b[38;5;21mdeco\u001b[39m(\u001b[38;5;241m*\u001b[39ma: Any, \u001b[38;5;241m*\u001b[39m\u001b[38;5;241m*\u001b[39mkw: Any) \u001b[38;5;241m-\u001b[39m\u001b[38;5;241m>\u001b[39m Any:\n\u001b[0;32m    178\u001b[0m     \u001b[38;5;28;01mtry\u001b[39;00m:\n\u001b[1;32m--> 179\u001b[0m         \u001b[38;5;28;01mreturn\u001b[39;00m \u001b[43mf\u001b[49m\u001b[43m(\u001b[49m\u001b[38;5;241;43m*\u001b[39;49m\u001b[43ma\u001b[49m\u001b[43m,\u001b[49m\u001b[43m \u001b[49m\u001b[38;5;241;43m*\u001b[39;49m\u001b[38;5;241;43m*\u001b[39;49m\u001b[43mkw\u001b[49m\u001b[43m)\u001b[49m\n\u001b[0;32m    180\u001b[0m     \u001b[38;5;28;01mexcept\u001b[39;00m Py4JJavaError \u001b[38;5;28;01mas\u001b[39;00m e:\n\u001b[0;32m    181\u001b[0m         converted \u001b[38;5;241m=\u001b[39m convert_exception(e\u001b[38;5;241m.\u001b[39mjava_exception)\n",
      "File \u001b[1;32mc:\\Users\\HP\\AppData\\Local\\Programs\\Python\\Python312\\Lib\\site-packages\\py4j\\protocol.py:326\u001b[0m, in \u001b[0;36mget_return_value\u001b[1;34m(answer, gateway_client, target_id, name)\u001b[0m\n\u001b[0;32m    324\u001b[0m value \u001b[38;5;241m=\u001b[39m OUTPUT_CONVERTER[\u001b[38;5;28mtype\u001b[39m](answer[\u001b[38;5;241m2\u001b[39m:], gateway_client)\n\u001b[0;32m    325\u001b[0m \u001b[38;5;28;01mif\u001b[39;00m answer[\u001b[38;5;241m1\u001b[39m] \u001b[38;5;241m==\u001b[39m REFERENCE_TYPE:\n\u001b[1;32m--> 326\u001b[0m     \u001b[38;5;28;01mraise\u001b[39;00m Py4JJavaError(\n\u001b[0;32m    327\u001b[0m         \u001b[38;5;124m\"\u001b[39m\u001b[38;5;124mAn error occurred while calling \u001b[39m\u001b[38;5;132;01m{0}\u001b[39;00m\u001b[38;5;132;01m{1}\u001b[39;00m\u001b[38;5;132;01m{2}\u001b[39;00m\u001b[38;5;124m.\u001b[39m\u001b[38;5;130;01m\\n\u001b[39;00m\u001b[38;5;124m\"\u001b[39m\u001b[38;5;241m.\u001b[39m\n\u001b[0;32m    328\u001b[0m         \u001b[38;5;28mformat\u001b[39m(target_id, \u001b[38;5;124m\"\u001b[39m\u001b[38;5;124m.\u001b[39m\u001b[38;5;124m\"\u001b[39m, name), value)\n\u001b[0;32m    329\u001b[0m \u001b[38;5;28;01melse\u001b[39;00m:\n\u001b[0;32m    330\u001b[0m     \u001b[38;5;28;01mraise\u001b[39;00m Py4JError(\n\u001b[0;32m    331\u001b[0m         \u001b[38;5;124m\"\u001b[39m\u001b[38;5;124mAn error occurred while calling \u001b[39m\u001b[38;5;132;01m{0}\u001b[39;00m\u001b[38;5;132;01m{1}\u001b[39;00m\u001b[38;5;132;01m{2}\u001b[39;00m\u001b[38;5;124m. Trace:\u001b[39m\u001b[38;5;130;01m\\n\u001b[39;00m\u001b[38;5;132;01m{3}\u001b[39;00m\u001b[38;5;130;01m\\n\u001b[39;00m\u001b[38;5;124m\"\u001b[39m\u001b[38;5;241m.\u001b[39m\n\u001b[0;32m    332\u001b[0m         \u001b[38;5;28mformat\u001b[39m(target_id, \u001b[38;5;124m\"\u001b[39m\u001b[38;5;124m.\u001b[39m\u001b[38;5;124m\"\u001b[39m, name, value))\n",
      "\u001b[1;31mPy4JJavaError\u001b[0m: An error occurred while calling o338.csv.\n: java.lang.RuntimeException: java.io.FileNotFoundException: java.io.FileNotFoundException: HADOOP_HOME and hadoop.home.dir are unset. -see https://wiki.apache.org/hadoop/WindowsProblems\r\n\tat org.apache.hadoop.util.Shell.getWinUtilsPath(Shell.java:735)\r\n\tat org.apache.hadoop.util.Shell.getSetPermissionCommand(Shell.java:270)\r\n\tat org.apache.hadoop.util.Shell.getSetPermissionCommand(Shell.java:286)\r\n\tat org.apache.hadoop.fs.RawLocalFileSystem.setPermission(RawLocalFileSystem.java:978)\r\n\tat org.apache.hadoop.fs.RawLocalFileSystem.mkOneDirWithMode(RawLocalFileSystem.java:660)\r\n\tat org.apache.hadoop.fs.RawLocalFileSystem.mkdirsWithOptionalPermission(RawLocalFileSystem.java:700)\r\n\tat org.apache.hadoop.fs.RawLocalFileSystem.mkdirs(RawLocalFileSystem.java:672)\r\n\tat org.apache.hadoop.fs.RawLocalFileSystem.mkdirsWithOptionalPermission(RawLocalFileSystem.java:699)\r\n\tat org.apache.hadoop.fs.RawLocalFileSystem.mkdirs(RawLocalFileSystem.java:672)\r\n\tat org.apache.hadoop.fs.RawLocalFileSystem.mkdirsWithOptionalPermission(RawLocalFileSystem.java:699)\r\n\tat org.apache.hadoop.fs.RawLocalFileSystem.mkdirs(RawLocalFileSystem.java:672)\r\n\tat org.apache.hadoop.fs.ChecksumFileSystem.mkdirs(ChecksumFileSystem.java:788)\r\n\tat org.apache.hadoop.mapreduce.lib.output.FileOutputCommitter.setupJob(FileOutputCommitter.java:356)\r\n\tat org.apache.spark.internal.io.HadoopMapReduceCommitProtocol.setupJob(HadoopMapReduceCommitProtocol.scala:188)\r\n\tat org.apache.spark.sql.execution.datasources.FileFormatWriter$.writeAndCommit(FileFormatWriter.scala:269)\r\n\tat org.apache.spark.sql.execution.datasources.FileFormatWriter$.executeWrite(FileFormatWriter.scala:304)\r\n\tat org.apache.spark.sql.execution.datasources.FileFormatWriter$.write(FileFormatWriter.scala:190)\r\n\tat org.apache.spark.sql.execution.datasources.InsertIntoHadoopFsRelationCommand.run(InsertIntoHadoopFsRelationCommand.scala:190)\r\n\tat org.apache.spark.sql.execution.command.DataWritingCommandExec.sideEffectResult$lzycompute(commands.scala:113)\r\n\tat org.apache.spark.sql.execution.command.DataWritingCommandExec.sideEffectResult(commands.scala:111)\r\n\tat org.apache.spark.sql.execution.command.DataWritingCommandExec.executeCollect(commands.scala:125)\r\n\tat org.apache.spark.sql.execution.QueryExecution$$anonfun$eagerlyExecuteCommands$1.$anonfun$applyOrElse$1(QueryExecution.scala:107)\r\n\tat org.apache.spark.sql.execution.SQLExecution$.$anonfun$withNewExecutionId$6(SQLExecution.scala:125)\r\n\tat org.apache.spark.sql.execution.SQLExecution$.withSQLConfPropagated(SQLExecution.scala:201)\r\n\tat org.apache.spark.sql.execution.SQLExecution$.$anonfun$withNewExecutionId$1(SQLExecution.scala:108)\r\n\tat org.apache.spark.sql.SparkSession.withActive(SparkSession.scala:900)\r\n\tat org.apache.spark.sql.execution.SQLExecution$.withNewExecutionId(SQLExecution.scala:66)\r\n\tat org.apache.spark.sql.execution.QueryExecution$$anonfun$eagerlyExecuteCommands$1.applyOrElse(QueryExecution.scala:107)\r\n\tat org.apache.spark.sql.execution.QueryExecution$$anonfun$eagerlyExecuteCommands$1.applyOrElse(QueryExecution.scala:98)\r\n\tat org.apache.spark.sql.catalyst.trees.TreeNode.$anonfun$transformDownWithPruning$1(TreeNode.scala:461)\r\n\tat org.apache.spark.sql.catalyst.trees.CurrentOrigin$.withOrigin(origin.scala:76)\r\n\tat org.apache.spark.sql.catalyst.trees.TreeNode.transformDownWithPruning(TreeNode.scala:461)\r\n\tat org.apache.spark.sql.catalyst.plans.logical.LogicalPlan.org$apache$spark$sql$catalyst$plans$logical$AnalysisHelper$$super$transformDownWithPruning(LogicalPlan.scala:32)\r\n\tat org.apache.spark.sql.catalyst.plans.logical.AnalysisHelper.transformDownWithPruning(AnalysisHelper.scala:267)\r\n\tat org.apache.spark.sql.catalyst.plans.logical.AnalysisHelper.transformDownWithPruning$(AnalysisHelper.scala:263)\r\n\tat org.apache.spark.sql.catalyst.plans.logical.LogicalPlan.transformDownWithPruning(LogicalPlan.scala:32)\r\n\tat org.apache.spark.sql.catalyst.plans.logical.LogicalPlan.transformDownWithPruning(LogicalPlan.scala:32)\r\n\tat org.apache.spark.sql.catalyst.trees.TreeNode.transformDown(TreeNode.scala:437)\r\n\tat org.apache.spark.sql.execution.QueryExecution.eagerlyExecuteCommands(QueryExecution.scala:98)\r\n\tat org.apache.spark.sql.execution.QueryExecution.commandExecuted$lzycompute(QueryExecution.scala:85)\r\n\tat org.apache.spark.sql.execution.QueryExecution.commandExecuted(QueryExecution.scala:83)\r\n\tat org.apache.spark.sql.execution.QueryExecution.assertCommandExecuted(QueryExecution.scala:142)\r\n\tat org.apache.spark.sql.DataFrameWriter.runCommand(DataFrameWriter.scala:869)\r\n\tat org.apache.spark.sql.DataFrameWriter.saveToV1Source(DataFrameWriter.scala:391)\r\n\tat org.apache.spark.sql.DataFrameWriter.saveInternal(DataFrameWriter.scala:364)\r\n\tat org.apache.spark.sql.DataFrameWriter.save(DataFrameWriter.scala:243)\r\n\tat org.apache.spark.sql.DataFrameWriter.csv(DataFrameWriter.scala:860)\r\n\tat java.base/jdk.internal.reflect.NativeMethodAccessorImpl.invoke0(Native Method)\r\n\tat java.base/jdk.internal.reflect.NativeMethodAccessorImpl.invoke(NativeMethodAccessorImpl.java:75)\r\n\tat java.base/jdk.internal.reflect.DelegatingMethodAccessorImpl.invoke(DelegatingMethodAccessorImpl.java:52)\r\n\tat java.base/java.lang.reflect.Method.invoke(Method.java:578)\r\n\tat py4j.reflection.MethodInvoker.invoke(MethodInvoker.java:244)\r\n\tat py4j.reflection.ReflectionEngine.invoke(ReflectionEngine.java:374)\r\n\tat py4j.Gateway.invoke(Gateway.java:282)\r\n\tat py4j.commands.AbstractCommand.invokeMethod(AbstractCommand.java:132)\r\n\tat py4j.commands.CallCommand.execute(CallCommand.java:79)\r\n\tat py4j.ClientServerConnection.waitForCommands(ClientServerConnection.java:182)\r\n\tat py4j.ClientServerConnection.run(ClientServerConnection.java:106)\r\n\tat java.base/java.lang.Thread.run(Thread.java:1623)\r\nCaused by: java.io.FileNotFoundException: java.io.FileNotFoundException: HADOOP_HOME and hadoop.home.dir are unset. -see https://wiki.apache.org/hadoop/WindowsProblems\r\n\tat org.apache.hadoop.util.Shell.fileNotFoundException(Shell.java:547)\r\n\tat org.apache.hadoop.util.Shell.getHadoopHomeDir(Shell.java:568)\r\n\tat org.apache.hadoop.util.Shell.getQualifiedBin(Shell.java:591)\r\n\tat org.apache.hadoop.util.Shell.<clinit>(Shell.java:688)\r\n\tat org.apache.hadoop.util.StringUtils.<clinit>(StringUtils.java:79)\r\n\tat org.apache.hadoop.conf.Configuration.getTimeDurationHelper(Configuration.java:1907)\r\n\tat org.apache.hadoop.conf.Configuration.getTimeDuration(Configuration.java:1867)\r\n\tat org.apache.hadoop.conf.Configuration.getTimeDuration(Configuration.java:1840)\r\n\tat org.apache.hadoop.util.ShutdownHookManager.getShutdownTimeout(ShutdownHookManager.java:183)\r\n\tat org.apache.hadoop.util.ShutdownHookManager$HookEntry.<init>(ShutdownHookManager.java:207)\r\n\tat org.apache.hadoop.util.ShutdownHookManager.addShutdownHook(ShutdownHookManager.java:304)\r\n\tat org.apache.spark.util.SparkShutdownHookManager.install(ShutdownHookManager.scala:181)\r\n\tat org.apache.spark.util.ShutdownHookManager$.shutdownHooks$lzycompute(ShutdownHookManager.scala:50)\r\n\tat org.apache.spark.util.ShutdownHookManager$.shutdownHooks(ShutdownHookManager.scala:48)\r\n\tat org.apache.spark.util.ShutdownHookManager$.addShutdownHook(ShutdownHookManager.scala:153)\r\n\tat org.apache.spark.util.ShutdownHookManager$.<init>(ShutdownHookManager.scala:58)\r\n\tat org.apache.spark.util.ShutdownHookManager$.<clinit>(ShutdownHookManager.scala)\r\n\tat org.apache.spark.util.Utils$.createTempDir(Utils.scala:242)\r\n\tat org.apache.spark.util.SparkFileUtils.createTempDir(SparkFileUtils.scala:103)\r\n\tat org.apache.spark.util.SparkFileUtils.createTempDir$(SparkFileUtils.scala:102)\r\n\tat org.apache.spark.util.Utils$.createTempDir(Utils.scala:94)\r\n\tat org.apache.spark.deploy.SparkSubmit.prepareSubmitEnvironment(SparkSubmit.scala:372)\r\n\tat org.apache.spark.deploy.SparkSubmit.org$apache$spark$deploy$SparkSubmit$$runMain(SparkSubmit.scala:964)\r\n\tat org.apache.spark.deploy.SparkSubmit.doRunMain$1(SparkSubmit.scala:194)\r\n\tat org.apache.spark.deploy.SparkSubmit.submit(SparkSubmit.scala:217)\r\n\tat org.apache.spark.deploy.SparkSubmit.doSubmit(SparkSubmit.scala:91)\r\n\tat org.apache.spark.deploy.SparkSubmit$$anon$2.doSubmit(SparkSubmit.scala:1120)\r\n\tat org.apache.spark.deploy.SparkSubmit$.main(SparkSubmit.scala:1129)\r\n\tat org.apache.spark.deploy.SparkSubmit.main(SparkSubmit.scala)\r\nCaused by: java.io.FileNotFoundException: HADOOP_HOME and hadoop.home.dir are unset.\r\n\tat org.apache.hadoop.util.Shell.checkHadoopHomeInner(Shell.java:467)\r\n\tat org.apache.hadoop.util.Shell.checkHadoopHome(Shell.java:438)\r\n\tat org.apache.hadoop.util.Shell.<clinit>(Shell.java:515)\r\n\t... 25 more\r\n"
     ]
    }
   ],
   "source": [
    "# Save DataFrame to CSV\n",
    "import os\n",
    "\n",
    "output_path = os.path.abspath(\"cleaned_308_researches.csv\")\n",
    "df.write.csv(output_path, header=True, mode=\"overwrite\")\n",
    "\n",
    "print(f\"DataFrame saved to {output_path}\")\n"
   ]
  }
 ],
 "metadata": {
  "kernelspec": {
   "display_name": "Python 3",
   "language": "python",
   "name": "python3"
  },
  "language_info": {
   "codemirror_mode": {
    "name": "ipython",
    "version": 3
   },
   "file_extension": ".py",
   "mimetype": "text/x-python",
   "name": "python",
   "nbconvert_exporter": "python",
   "pygments_lexer": "ipython3",
   "version": "3.12.3"
  }
 },
 "nbformat": 4,
 "nbformat_minor": 2
}
