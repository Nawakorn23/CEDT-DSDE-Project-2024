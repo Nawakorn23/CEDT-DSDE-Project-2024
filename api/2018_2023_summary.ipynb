{
 "cells": [
  {
   "cell_type": "code",
   "execution_count": 1,
   "metadata": {},
   "outputs": [],
   "source": [
    "import pandas as pd"
   ]
  },
  {
   "cell_type": "code",
   "execution_count": 2,
   "metadata": {},
   "outputs": [],
   "source": [
    "# List of CSV files for different years\n",
    "csv_files = [\n",
    "    \"te_sql_summary_2018.csv\",\n",
    "    \"te_sql_summary_2019.csv\",\n",
    "    \"te_sql_summary_2020.csv\",\n",
    "    \"te_sql_summary_2021.csv\",\n",
    "    \"te_sql_summary_2022.csv\",\n",
    "    \"te_sql_summary_2023.csv\",\n",
    "    \"te_sql_summary_2024.csv\",\n",
    "]"
   ]
  },
  {
   "cell_type": "code",
   "execution_count": 3,
   "metadata": {},
   "outputs": [
    {
     "name": "stdout",
     "output_type": "stream",
     "text": [
      "<class 'pandas.core.frame.DataFrame'>\n",
      "RangeIndex: 6664 entries, 0 to 6663\n",
      "Data columns (total 4 columns):\n",
      " #   Column               Non-Null Count  Dtype \n",
      "---  ------               --------------  ----- \n",
      " 0   Country              6664 non-null   object\n",
      " 1   Year                 6664 non-null   int64 \n",
      " 2   Subject Area         6664 non-null   object\n",
      " 3   Number of Documents  6664 non-null   int64 \n",
      "dtypes: int64(2), object(2)\n",
      "memory usage: 208.4+ KB\n",
      "None\n"
     ]
    }
   ],
   "source": [
    "# List to hold DataFrames\n",
    "dataframes = []\n",
    "\n",
    "# Read and append each CSV to the list\n",
    "for file in csv_files:\n",
    "    df = pd.read_csv(file)\n",
    "    dataframes.append(df)\n",
    "\n",
    "# Concatenate all DataFrames into a single DataFrame\n",
    "combined_data = pd.concat(dataframes, ignore_index=True)\n",
    "\n",
    "# Check the structure of the combined DataFrame\n",
    "print(combined_data.info())"
   ]
  },
  {
   "cell_type": "code",
   "execution_count": 4,
   "metadata": {},
   "outputs": [
    {
     "name": "stdout",
     "output_type": "stream",
     "text": [
      "Data from all years successfully combined and saved to 'combined_research_data.csv'\n"
     ]
    }
   ],
   "source": [
    "# Save the combined data to a new CSV file\n",
    "combined_data.to_csv(\"all_x.csv\", index=False)\n",
    "\n",
    "print(\"Data from all years successfully combined and saved to 'combined_research_data.csv'\")"
   ]
  }
 ],
 "metadata": {
  "kernelspec": {
   "display_name": "Python 3",
   "language": "python",
   "name": "python3"
  },
  "language_info": {
   "codemirror_mode": {
    "name": "ipython",
    "version": 3
   },
   "file_extension": ".py",
   "mimetype": "text/x-python",
   "name": "python",
   "nbconvert_exporter": "python",
   "pygments_lexer": "ipython3",
   "version": "3.12.3"
  }
 },
 "nbformat": 4,
 "nbformat_minor": 2
}
