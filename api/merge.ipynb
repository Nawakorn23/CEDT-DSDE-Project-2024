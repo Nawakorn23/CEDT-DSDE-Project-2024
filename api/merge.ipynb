{
 "cells": [
  {
   "cell_type": "code",
   "execution_count": 25,
   "metadata": {},
   "outputs": [],
   "source": [
    "import pandas as pd"
   ]
  },
  {
   "cell_type": "code",
   "execution_count": 26,
   "metadata": {},
   "outputs": [],
   "source": [
    "# Load the datasets\n",
    "# data1 = pd.read_csv(\"2018_2023_pivoted.csv\")  # First dataset\n",
    "data1 = pd.read_csv(\"all_x.csv\")  # First dataset\n",
    "data2 = pd.read_csv(\"sorted_data5.csv\")  # Second dataset\n",
    "\n",
    "# Perform a left join on 'Country' and 'Year'\n",
    "merged_data = pd.merge(data1, data2, on=['Country', 'Year', 'Subject Area'], how='left')"
   ]
  },
  {
   "cell_type": "code",
   "execution_count": 27,
   "metadata": {},
   "outputs": [],
   "source": [
    "merged_data.fillna(0, inplace=True)"
   ]
  },
  {
   "cell_type": "code",
   "execution_count": 28,
   "metadata": {},
   "outputs": [
    {
     "name": "stdout",
     "output_type": "stream",
     "text": [
      "     Country  Year Subject Area  Number of Documents  Percentage\n",
      "0  Argentina  2018         BIOC                    1        0.00\n",
      "1  Argentina  2018         ENVI                    1        0.00\n",
      "2  Argentina  2018         MATE                    2        0.00\n",
      "3  Argentina  2018         MEDI                    3        0.00\n",
      "4  Argentina  2018         NEUR                    1        8.32\n"
     ]
    }
   ],
   "source": [
    "# Save the merged dataset to a CSV file\n",
    "merged_data.to_csv(\"all_with_y5.csv\", index=False)\n",
    "\n",
    "# Display the first few rows of the merged data\n",
    "print(merged_data.head())"
   ]
  }
 ],
 "metadata": {
  "kernelspec": {
   "display_name": "Python 3",
   "language": "python",
   "name": "python3"
  },
  "language_info": {
   "codemirror_mode": {
    "name": "ipython",
    "version": 3
   },
   "file_extension": ".py",
   "mimetype": "text/x-python",
   "name": "python",
   "nbconvert_exporter": "python",
   "pygments_lexer": "ipython3",
   "version": "3.12.3"
  }
 },
 "nbformat": 4,
 "nbformat_minor": 2
}
